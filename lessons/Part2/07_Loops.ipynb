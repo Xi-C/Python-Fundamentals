{
 "cells": [
  {
   "cell_type": "markdown",
   "metadata": {},
   "source": [
    "# Loops\n",
    "\n",
    "\n",
    "**Learning Objectives**:\n",
    "- Understand the syntax of loops\n",
    "- Use loops to iterate through multple operations\n",
    "- Aggregate values using the accumulator pattern.\n",
    "* * * * *"
   ]
  },
  {
   "cell_type": "markdown",
   "metadata": {},
   "source": [
    "Let's say we have three tire pressure measurements `40.9`,`35.2`,`28.4` and we want to round each decimal to a whole number. How would we do this using the tools available to us?\n",
    "\n",
    "\n",
    "Here's one way (of many):"
   ]
  },
  {
   "cell_type": "code",
   "execution_count": 3,
   "metadata": {},
   "outputs": [
    {
     "name": "stdout",
     "output_type": "stream",
     "text": [
      "41\n",
      "35\n",
      "28\n",
      "41 35 28\n"
     ]
    }
   ],
   "source": [
    "tire1 = 40.9\n",
    "tire2 = 35.2\n",
    "tire3 = 28.4\n",
    "\n",
    "print(round(tire1))\n",
    "print(round(tire2))\n",
    "print(round(tire3))\n",
    "\n",
    "\n",
    "\n",
    "#Alternatively we can use a list\n",
    "tires = [40.9,35.2,28.4]\n",
    "print(round(tires[0]),round(tires[1]),round(tires[2]))"
   ]
  },
  {
   "cell_type": "markdown",
   "metadata": {},
   "source": [
    "Let's say that we have 10 tire pressures in a list. How would we modify the above approach?\n",
    "\n",
    "This approach is not particularly scalable. In addition, they are less flexible which can slow down coding. For example, what if you want to round every tire pressure to two decimal places?"
   ]
  },
  {
   "cell_type": "markdown",
   "metadata": {},
   "source": [
    "## Use of loops\n",
    "\n",
    "*   Doing calculations on the values in a list one by one\n",
    "    is as painful as working with `pressure_001`, `pressure_002`, etc.\n",
    "*   A *for loop* tells Python to execute some statements once for each value in a list,\n",
    "    a character string,\n",
    "    or some other set of values.\n",
    "*   \"for each thing in this group, do these operations\"\n",
    "*   The other major type of loop is a [while](https://www.geeksforgeeks.org/python-while-loop/) loop. We don't use these loops frequently in this type of programming, but we may encounter them.\n"
   ]
  },
  {
   "cell_type": "code",
   "execution_count": 4,
   "metadata": {},
   "outputs": [
    {
     "name": "stdout",
     "output_type": "stream",
     "text": [
      "41\n",
      "35\n",
      "28\n",
      "the loop has ended\n",
      "41\n",
      "35\n",
      "28\n",
      "the loop has ended\n"
     ]
    }
   ],
   "source": [
    "for pressure in [40.9,35.2,28.4]:\n",
    "    print(round(pressure))\n",
    "print('the loop has ended')\n",
    "\n",
    "\n",
    "#we can also substitute a variable containing a list (useful for long lists)\n",
    "for pressure in tires:\n",
    "    print(round(pressure))\n",
    "print('the loop has ended')\n"
   ]
  },
  {
   "cell_type": "markdown",
   "metadata": {},
   "source": [
    "## Loop syntax\n",
    "\n",
    "*   The colon at the end of the first line signals the start of a *block* of statements.\n",
    "*   The indented line(s) following the colon indicate the lines to run as a part of the loop (also known as the body).\n",
    "*   Unindented lines following the loop will execute after all of the iterations are complete.\n",
    "*   `for loop_variable in collection:` The loop variable is what gets plugged into the calculations in the body of the loop, and the collection is the group of values being looped through.\n",
    "\n",
    "*   As with all variables, loop variables are:\n",
    "    *   Created on demand.\n",
    "    *   Meaningless: their names can be anything at all.\n",
    "    *   Placeholders for the loop"
   ]
  },
  {
   "cell_type": "code",
   "execution_count": 12,
   "metadata": {},
   "outputs": [
    {
     "name": "stdout",
     "output_type": "stream",
     "text": [
      "original: 40.9 rounded: 41\n",
      "original: 35.2 rounded: 35\n",
      "original: 28.4 rounded: 28\n",
      "the loop has ended\n",
      "original: 40.9 rounded: 41\n",
      "original: 35.2 rounded: 35\n",
      "original: 28.4 rounded: 28\n",
      "the loop has ended\n"
     ]
    }
   ],
   "source": [
    "for pressure in [40.9,35.2,28.4]:\n",
    "    p=round(pressure)\n",
    "    print('original:',pressure,'rounded:',p)\n",
    "print('the loop has ended')\n",
    "\n",
    "#alternatively, you can use a variable for the collection:\n",
    "for pressure in tires:\n",
    "    p=round(pressure)\n",
    "    print('original:',pressure,'rounded:',p)\n",
    "print('the loop has ended')\n"
   ]
  },
  {
   "cell_type": "markdown",
   "metadata": {},
   "source": [
    "## Challenge 1: Loop Syntax\n",
    "\n",
    "The following block of code contains several errors that are preventing it from running properly. What are the errors? How would you fix them?"
   ]
  },
  {
   "cell_type": "code",
   "execution_count": 1,
   "metadata": {},
   "outputs": [
    {
     "ename": "SyntaxError",
     "evalue": "invalid syntax (<ipython-input-1-fefdc3b11db0>, line 1)",
     "output_type": "error",
     "traceback": [
      "\u001b[0;36m  File \u001b[0;32m\"<ipython-input-1-fefdc3b11db0>\"\u001b[0;36m, line \u001b[0;32m1\u001b[0m\n\u001b[0;31m    for kitten in [2, 3, 5]\u001b[0m\n\u001b[0m                           ^\u001b[0m\n\u001b[0;31mSyntaxError\u001b[0m\u001b[0;31m:\u001b[0m invalid syntax\n"
     ]
    }
   ],
   "source": [
    "for kitten in [2, 3, 5]\n",
    "print(k)\n"
   ]
  },
  {
   "cell_type": "markdown",
   "metadata": {},
   "source": [
    "\n",
    "## Loops with strings, series, and `range`\n",
    "\n",
    "Loops can loop over any iterable data type. (**iterable**: any data type that can be iterated over, like a sequence). A rule of thumb is that anythng that can be indexed (e.g. accessed with `values[i]`) is an iterable.\n",
    "\n",
    "\n",
    "For example, a string is iterable, so it is possible to loop through a string:\n",
    "\n",
    "\n",
    "\n",
    "*   The built-in function `range` produces a sequence of numbers.\n",
    "    *   *Not* a list: the numbers are produced on demand\n",
    "        to make looping over large ranges more efficient.\n",
    "*   `range(N)` is the numbers 0..N-1\n",
    "    *   Exactly the legal indices of a list or character [string](https://github.com/dlab-berkeley/python-intensive/blob/master/Glossary.md#string) of length N\n",
    "    \n",
    "* This may be used to iterate through list indexes. \n",
    "* When might using a range be useful?\n"
   ]
  },
  {
   "cell_type": "code",
   "execution_count": 2,
   "metadata": {},
   "outputs": [
    {
     "name": "stdout",
     "output_type": "stream",
     "text": [
      "Y\n",
      "O\n",
      "S\n",
      "E\n",
      "M\n",
      "I\n",
      "T\n",
      "E\n"
     ]
    }
   ],
   "source": [
    "ex_string = 'yosemite'\n",
    "\n",
    "for x in ex_string:\n",
    "    print(x.upper())"
   ]
  },
  {
   "cell_type": "markdown",
   "metadata": {},
   "source": [
    "You can also use a `range` to loop through a sequence. This is used when you want to run a loop *x* number of times. This is used a lot for looping through the indices in the list."
   ]
  },
  {
   "cell_type": "code",
   "execution_count": 28,
   "metadata": {},
   "outputs": [
    {
     "name": "stdout",
     "output_type": "stream",
     "text": [
      "Y\n",
      "O\n",
      "S\n",
      "E\n",
      "M\n",
      "I\n",
      "T\n",
      "E\n",
      "the loop has ended\n"
     ]
    }
   ],
   "source": [
    "#this is equivalent to the loop above.\n",
    "\n",
    "for index in range(len(ex_string)):\n",
    "    print(ex_string[index].upper())\n",
    "print('the loop has ended')"
   ]
  },
  {
   "cell_type": "markdown",
   "metadata": {},
   "source": [
    "## Challenge 2: Looping through a series\n",
    "\n",
    "A data frame series can be looped through as well. For the data frame below, let's convert the elevations from feet to meters (use the conversion: 1ft = .304 m).\n",
    "\n",
    "Start with the following method: \n",
    "\n",
    "1. extract the column `elevation` \n",
    "2. Loop through the series\n",
    "3. Convert each value to meters \n",
    "4. Print the result. \n",
    "\n",
    "\n",
    "**Bonus** : Use `range` to iterate through the series and achieve the same result. Can you think of any other ways to loop through the DataFrame?"
   ]
  },
  {
   "cell_type": "code",
   "execution_count": 47,
   "metadata": {},
   "outputs": [
    {
     "data": {
      "text/html": [
       "<div>\n",
       "<style scoped>\n",
       "    .dataframe tbody tr th:only-of-type {\n",
       "        vertical-align: middle;\n",
       "    }\n",
       "\n",
       "    .dataframe tbody tr th {\n",
       "        vertical-align: top;\n",
       "    }\n",
       "\n",
       "    .dataframe thead th {\n",
       "        text-align: right;\n",
       "    }\n",
       "</style>\n",
       "<table border=\"1\" class=\"dataframe\">\n",
       "  <thead>\n",
       "    <tr style=\"text-align: right;\">\n",
       "      <th></th>\n",
       "      <th>mountain</th>\n",
       "      <th>range</th>\n",
       "      <th>elevation</th>\n",
       "    </tr>\n",
       "  </thead>\n",
       "  <tbody>\n",
       "    <tr>\n",
       "      <th>0</th>\n",
       "      <td>Mount Whitney</td>\n",
       "      <td>Sierra Nevada</td>\n",
       "      <td>14505</td>\n",
       "    </tr>\n",
       "    <tr>\n",
       "      <th>1</th>\n",
       "      <td>Mount Williamson</td>\n",
       "      <td>Sierra Nevada</td>\n",
       "      <td>14379</td>\n",
       "    </tr>\n",
       "    <tr>\n",
       "      <th>2</th>\n",
       "      <td>White Mountain Peak</td>\n",
       "      <td>White Mountains</td>\n",
       "      <td>14252</td>\n",
       "    </tr>\n",
       "    <tr>\n",
       "      <th>3</th>\n",
       "      <td>North Palisade</td>\n",
       "      <td>Sierra Nevada</td>\n",
       "      <td>14248</td>\n",
       "    </tr>\n",
       "    <tr>\n",
       "      <th>4</th>\n",
       "      <td>Mt Shasta</td>\n",
       "      <td>Cascade Range</td>\n",
       "      <td>14179</td>\n",
       "    </tr>\n",
       "    <tr>\n",
       "      <th>5</th>\n",
       "      <td>Mount Humphreys</td>\n",
       "      <td>Sierra Nevada</td>\n",
       "      <td>13992</td>\n",
       "    </tr>\n",
       "  </tbody>\n",
       "</table>\n",
       "</div>"
      ],
      "text/plain": [
       "              mountain            range  elevation\n",
       "0        Mount Whitney    Sierra Nevada      14505\n",
       "1     Mount Williamson    Sierra Nevada      14379\n",
       "2  White Mountain Peak  White Mountains      14252\n",
       "3       North Palisade    Sierra Nevada      14248\n",
       "4            Mt Shasta    Cascade Range      14179\n",
       "5      Mount Humphreys    Sierra Nevada      13992"
      ]
     },
     "execution_count": 47,
     "metadata": {},
     "output_type": "execute_result"
    }
   ],
   "source": [
    "import pandas as pd\n",
    "mountain_df = pd.DataFrame({'mountain':['Mount Whitney','Mount Williamson','White Mountain Peak','North Palisade','Mt Shasta','Mount Humphreys'],\n",
    "              'range':['Sierra Nevada','Sierra Nevada','White Mountains','Sierra Nevada','Cascade Range','Sierra Nevada'],\n",
    "              'elevation':[14505,14379,14252,14248,14179,13992]})\n",
    "\n",
    "mountain_df\n",
    "\n",
    "\n",
    "\n",
    "#your code here"
   ]
  },
  {
   "cell_type": "markdown",
   "metadata": {},
   "source": [
    "**Note**: We will discuss looping and DataFrames in Part 3, including when and how to use loops most effectively."
   ]
  },
  {
   "cell_type": "markdown",
   "metadata": {},
   "source": [
    "# Aggregating values with loops\n",
    "*   A common strategy in programs is to:\n",
    "    1.  Initialize an *accumulator* variable to zero, the empty string, or the empty list.\n",
    "    2.  Update the variable with values from a collection.\n",
    "    \n",
    "The result of this is a single list, number, or string with a summary value for the entire collection being looped over.\n",
    "    \n",
    "**Note**: If only one [argument](https://github.com/dlab-berkeley/python-intensive/blob/master/Glossary.md#argument) is given to `range`, the minimum will default to 0. But two arguments may also be given:\n",
    "\n",
    "\n",
    "For example, we can make a new list with all of the tire pressures rounded.\n"
   ]
  },
  {
   "cell_type": "code",
   "execution_count": 39,
   "metadata": {},
   "outputs": [
    {
     "name": "stdout",
     "output_type": "stream",
     "text": [
      "Rounded tire pressures: [41, 35, 28]\n"
     ]
    }
   ],
   "source": [
    "result_list = []\n",
    "for pressure in tires: \n",
    "    rounded = round(pressure)\n",
    "    result_list.append(rounded)\n",
    "print('Rounded tire pressures:',result_list)"
   ]
  },
  {
   "cell_type": "markdown",
   "metadata": {},
   "source": [
    "## Challenge 3: Practice Aggregating\n",
    "\n",
    "Below are a few examples showing the different"
   ]
  },
  {
   "cell_type": "code",
   "execution_count": 40,
   "metadata": {},
   "outputs": [
    {
     "ename": "NameError",
     "evalue": "name '____' is not defined",
     "output_type": "error",
     "traceback": [
      "\u001b[0;31m---------------------------------------------------------------------------\u001b[0m",
      "\u001b[0;31mNameError\u001b[0m                                 Traceback (most recent call last)",
      "\u001b[0;32m<ipython-input-40-951cdb6e1122>\u001b[0m in \u001b[0;36m<module>\u001b[0;34m\u001b[0m\n\u001b[1;32m      2\u001b[0m \u001b[0mtotal\u001b[0m \u001b[0;34m=\u001b[0m \u001b[0;36m0\u001b[0m\u001b[0;34m\u001b[0m\u001b[0;34m\u001b[0m\u001b[0m\n\u001b[1;32m      3\u001b[0m \u001b[0;32mfor\u001b[0m \u001b[0mword\u001b[0m \u001b[0;32min\u001b[0m \u001b[0;34m[\u001b[0m\u001b[0;34m\"red\"\u001b[0m\u001b[0;34m,\u001b[0m \u001b[0;34m\"green\"\u001b[0m\u001b[0;34m,\u001b[0m \u001b[0;34m\"blue\"\u001b[0m\u001b[0;34m]\u001b[0m\u001b[0;34m:\u001b[0m\u001b[0;34m\u001b[0m\u001b[0;34m\u001b[0m\u001b[0m\n\u001b[0;32m----> 4\u001b[0;31m     \u001b[0m____\u001b[0m \u001b[0;34m=\u001b[0m \u001b[0m____\u001b[0m \u001b[0;34m+\u001b[0m \u001b[0mlen\u001b[0m\u001b[0;34m(\u001b[0m\u001b[0mword\u001b[0m\u001b[0;34m)\u001b[0m\u001b[0;34m\u001b[0m\u001b[0;34m\u001b[0m\u001b[0m\n\u001b[0m\u001b[1;32m      5\u001b[0m \u001b[0mprint\u001b[0m\u001b[0;34m(\u001b[0m\u001b[0mtotal\u001b[0m\u001b[0;34m)\u001b[0m\u001b[0;34m\u001b[0m\u001b[0;34m\u001b[0m\u001b[0m\n",
      "\u001b[0;31mNameError\u001b[0m: name '____' is not defined"
     ]
    }
   ],
   "source": [
    "# Total length of the strings in the list: [\"red\", \"green\", \"blue\"] => 12\n",
    "total = 0\n",
    "for word in [\"red\", \"green\", \"blue\"]:\n",
    "    ____ = ____ + len(word)\n",
    "print(total)"
   ]
  },
  {
   "cell_type": "code",
   "execution_count": 35,
   "metadata": {},
   "outputs": [
    {
     "ename": "NameError",
     "evalue": "name '____' is not defined",
     "output_type": "error",
     "traceback": [
      "\u001b[0;31m---------------------------------------------------------------------------\u001b[0m",
      "\u001b[0;31mNameError\u001b[0m                                 Traceback (most recent call last)",
      "\u001b[0;32m<ipython-input-35-a1ab1b908e20>\u001b[0m in \u001b[0;36m<module>\u001b[0;34m\u001b[0m\n\u001b[1;32m      1\u001b[0m \u001b[0;31m# List of word lengths: [\"red\", \"green\", \"blue\"] => [3, 5, 4]\u001b[0m\u001b[0;34m\u001b[0m\u001b[0;34m\u001b[0m\u001b[0;34m\u001b[0m\u001b[0m\n\u001b[0;32m----> 2\u001b[0;31m \u001b[0mlengths\u001b[0m \u001b[0;34m=\u001b[0m \u001b[0m____\u001b[0m\u001b[0;34m\u001b[0m\u001b[0;34m\u001b[0m\u001b[0m\n\u001b[0m\u001b[1;32m      3\u001b[0m \u001b[0;32mfor\u001b[0m \u001b[0mword\u001b[0m \u001b[0;32min\u001b[0m \u001b[0;34m[\u001b[0m\u001b[0;34m\"red\"\u001b[0m\u001b[0;34m,\u001b[0m \u001b[0;34m\"green\"\u001b[0m\u001b[0;34m,\u001b[0m \u001b[0;34m\"blue\"\u001b[0m\u001b[0;34m]\u001b[0m\u001b[0;34m:\u001b[0m\u001b[0;34m\u001b[0m\u001b[0;34m\u001b[0m\u001b[0m\n\u001b[1;32m      4\u001b[0m     \u001b[0mlengths\u001b[0m\u001b[0;34m.\u001b[0m\u001b[0m____\u001b[0m\u001b[0;34m(\u001b[0m\u001b[0m____\u001b[0m\u001b[0;34m)\u001b[0m\u001b[0;34m\u001b[0m\u001b[0;34m\u001b[0m\u001b[0m\n\u001b[1;32m      5\u001b[0m \u001b[0mprint\u001b[0m\u001b[0;34m(\u001b[0m\u001b[0mlengths\u001b[0m\u001b[0;34m)\u001b[0m\u001b[0;34m\u001b[0m\u001b[0;34m\u001b[0m\u001b[0m\n",
      "\u001b[0;31mNameError\u001b[0m: name '____' is not defined"
     ]
    }
   ],
   "source": [
    "# List of word lengths: [\"red\", \"green\", \"blue\"] => [3, 5, 4]\n",
    "lengths = ____\n",
    "for word in [\"red\", \"green\", \"blue\"]:\n",
    "    lengths.____(____)\n",
    "print(lengths)"
   ]
  },
  {
   "cell_type": "code",
   "execution_count": 36,
   "metadata": {},
   "outputs": [
    {
     "ename": "NameError",
     "evalue": "name '____' is not defined",
     "output_type": "error",
     "traceback": [
      "\u001b[0;31m---------------------------------------------------------------------------\u001b[0m",
      "\u001b[0;31mNameError\u001b[0m                                 Traceback (most recent call last)",
      "\u001b[0;32m<ipython-input-36-41131302ab80>\u001b[0m in \u001b[0;36m<module>\u001b[0;34m\u001b[0m\n\u001b[1;32m      1\u001b[0m \u001b[0;31m# Concatenate all words: [\"red\", \"green\", \"blue\"] => \"redgreenblue\"\u001b[0m\u001b[0;34m\u001b[0m\u001b[0;34m\u001b[0m\u001b[0;34m\u001b[0m\u001b[0m\n\u001b[1;32m      2\u001b[0m \u001b[0mwords\u001b[0m \u001b[0;34m=\u001b[0m \u001b[0;34m[\u001b[0m\u001b[0;34m\"red\"\u001b[0m\u001b[0;34m,\u001b[0m \u001b[0;34m\"green\"\u001b[0m\u001b[0;34m,\u001b[0m \u001b[0;34m\"blue\"\u001b[0m\u001b[0;34m]\u001b[0m\u001b[0;34m\u001b[0m\u001b[0;34m\u001b[0m\u001b[0m\n\u001b[0;32m----> 3\u001b[0;31m \u001b[0mresult\u001b[0m \u001b[0;34m=\u001b[0m \u001b[0m____\u001b[0m\u001b[0;34m\u001b[0m\u001b[0;34m\u001b[0m\u001b[0m\n\u001b[0m\u001b[1;32m      4\u001b[0m \u001b[0;32mfor\u001b[0m \u001b[0m____\u001b[0m \u001b[0;32min\u001b[0m \u001b[0m____\u001b[0m\u001b[0;34m:\u001b[0m\u001b[0;34m\u001b[0m\u001b[0;34m\u001b[0m\u001b[0m\n\u001b[1;32m      5\u001b[0m     \u001b[0m____\u001b[0m\u001b[0;34m\u001b[0m\u001b[0;34m\u001b[0m\u001b[0m\n",
      "\u001b[0;31mNameError\u001b[0m: name '____' is not defined"
     ]
    }
   ],
   "source": [
    "# Concatenate all words: [\"red\", \"green\", \"blue\"] => \"redgreenblue\"\n",
    "words = [\"red\", \"green\", \"blue\"]\n",
    "result = ____\n",
    "for ____ in ____:\n",
    "    ____\n",
    "print(result)"
   ]
  },
  {
   "cell_type": "code",
   "execution_count": 37,
   "metadata": {},
   "outputs": [],
   "source": [
    "# Create acronym: [\"red\", \"green\", \"blue\"] => \"RGB\"\n",
    "# write the whole thing"
   ]
  },
  {
   "cell_type": "markdown",
   "metadata": {},
   "source": [
    "## Nested loops\n",
    "\n",
    "Loops may contain another loop. This allows us to loop through multiple lists and perform calculations. However, this also takes longer. \n"
   ]
  },
  {
   "cell_type": "code",
   "execution_count": 44,
   "metadata": {},
   "outputs": [
    {
     "name": "stdout",
     "output_type": "stream",
     "text": [
      "c\n",
      "a\n",
      "t\n",
      "d\n",
      "o\n",
      "g\n",
      "a\n",
      "p\n",
      "p\n",
      "l\n",
      "e\n",
      "o\n",
      "r\n",
      "a\n",
      "n\n",
      "g\n",
      "e\n"
     ]
    }
   ],
   "source": [
    "strings = ['cat','dog','apple','orange']\n",
    "for word in strings:\n",
    "    for letter in word:\n",
    "        print(letter)"
   ]
  },
  {
   "cell_type": "markdown",
   "metadata": {},
   "source": [
    "We tend to avoid loops where possible because they are computationally inefficient. But they are still quite useful in the right cases.\n"
   ]
  },
  {
   "cell_type": "markdown",
   "metadata": {},
   "source": [
    "## Challenge 4: Aggregation with a DataFrame\n",
    "\n",
    "For the `mountains_df` from Challenge: Looping through a series, use a loop and aggregation to do the following.\n",
    "\n",
    "1. Make a list of the elevations in meters using a loop\n",
    "\n",
    "2. Use a loop and aggregation to get the sum of the elevations in the mountains.\n",
    "\n",
    "\n",
    "\n",
    "**Hint**: We can add new columns to our DataFrame using `df['column_name']` Add the list to the dataframe. "
   ]
  },
  {
   "cell_type": "code",
   "execution_count": 46,
   "metadata": {},
   "outputs": [
    {
     "data": {
      "text/plain": [
       "0    True\n",
       "1    True\n",
       "2    True\n",
       "3    True\n",
       "4    True\n",
       "5    True\n",
       "Name: elevation, dtype: bool"
      ]
     },
     "execution_count": 46,
     "metadata": {},
     "output_type": "execute_result"
    }
   ],
   "source": [
    "mountain_df"
   ]
  },
  {
   "cell_type": "code",
   "execution_count": 38,
   "metadata": {},
   "outputs": [],
   "source": [
    "#your code here"
   ]
  },
  {
   "cell_type": "markdown",
   "metadata": {},
   "source": [
    "## Best practices with loops\n",
    "\n",
    "1. Loops are great for repeating operations. \n",
    "2. They also add computational complexity to the code (basically makes it take longer to run) so are not ideal for large loops, or many nested loops.\n",
    "3. When possible, limit the size and number of loops in your code\n"
   ]
  },
  {
   "cell_type": "code",
   "execution_count": null,
   "metadata": {},
   "outputs": [],
   "source": []
  }
 ],
 "metadata": {
  "anaconda-cloud": {},
  "kernelspec": {
   "display_name": "Python 3",
   "language": "python",
   "name": "python3"
  },
  "language_info": {
   "codemirror_mode": {
    "name": "ipython",
    "version": 3
   },
   "file_extension": ".py",
   "mimetype": "text/x-python",
   "name": "python",
   "nbconvert_exporter": "python",
   "pygments_lexer": "ipython3",
   "version": "3.7.6"
  }
 },
 "nbformat": 4,
 "nbformat_minor": 1
}
