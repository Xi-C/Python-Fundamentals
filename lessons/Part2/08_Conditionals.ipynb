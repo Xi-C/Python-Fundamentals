{
 "cells": [
  {
   "cell_type": "markdown",
   "metadata": {},
   "source": [
    "# Booleans and Conditionals\n",
    "\n",
    "\n",
    "**Learning Objectives**:\n",
    "\n",
    "- Introduce the Boolean type\n",
    "- Define and understand conditional statements\n",
    "- Understand the use of `if`,`else`,and `elif` statements\n",
    "- Use a conditional inside of a loop\n",
    "\n",
    "* * * * *"
   ]
  },
  {
   "cell_type": "markdown",
   "metadata": {},
   "source": [
    "## Boolean Type\n",
    "\n",
    "Another key type is the Boolean Type. Booleans binary with two possible values: True and False (These values are case sensitive)"
   ]
  },
  {
   "cell_type": "code",
   "execution_count": 3,
   "metadata": {},
   "outputs": [],
   "source": [
    "yes = True #hint, True/False are green in Jupyter notebook"
   ]
  },
  {
   "cell_type": "markdown",
   "metadata": {},
   "source": [
    "Booleans are most commonly seen in the results of inequalities. "
   ]
  },
  {
   "cell_type": "code",
   "execution_count": 11,
   "metadata": {},
   "outputs": [
    {
     "name": "stdout",
     "output_type": "stream",
     "text": [
      "Is 3 > 5? False\n",
      "Is 3 < 5? True\n",
      "Is 3 <= 3? True\n",
      "Is 3 >= 3.1? False\n",
      "Is ice == ice? True\n"
     ]
    }
   ],
   "source": [
    "#greater than \n",
    "print(\"Is 3 > 5?\",3 > 5)\n",
    "\n",
    "#less than\n",
    "print(\"Is 3 < 5?\",3 < 5)\n",
    "\n",
    "\n",
    "#greater than or equal to\n",
    "print(\"Is 3 <= 3?\",3 <= 3)\n",
    "\n",
    "\n",
    "#less than or equal to \n",
    "print(\"Is 3 >= 3.1?\",3 >= 3.1)\n",
    "\n",
    "\n",
    "#exactly equal to\n",
    "print(\"Is ice == ice?\",'ice' == 'ice')\n",
    "\n"
   ]
  },
  {
   "cell_type": "markdown",
   "metadata": {},
   "source": [
    "You can also to `!` in front of the operator to identify 'not...'. \n",
    "\n",
    "note: For `==`, the inversion is `!=` rather than `!==`"
   ]
  },
  {
   "cell_type": "code",
   "execution_count": 12,
   "metadata": {},
   "outputs": [
    {
     "name": "stdout",
     "output_type": "stream",
     "text": [
      "Is ice != ice? False\n",
      "Is ice != water? True\n"
     ]
    }
   ],
   "source": [
    "print(\"Is ice != ice?\",'ice' != 'ice')\n",
    "print(\"Is ice != water?\",'ice' != 'water')\n"
   ]
  },
  {
   "cell_type": "markdown",
   "metadata": {},
   "source": [
    "**Note**: Comparisons for strings are based on alphanumeric order: `0-9A-Za-z`\n",
    "\n",
    "\n",
    "\n",
    "The operators `and`, `or` and `not` can also be used to compare boolean values with logic. What do each of the following statements do?"
   ]
  },
  {
   "cell_type": "code",
   "execution_count": 13,
   "metadata": {},
   "outputs": [
    {
     "name": "stdout",
     "output_type": "stream",
     "text": [
      "False\n",
      "True\n",
      "True\n"
     ]
    }
   ],
   "source": [
    "a = True\n",
    "b = False\n",
    "\n",
    "print(a and b)\n",
    "\n",
    "print(a or b)\n",
    "\n",
    "print(not (a and b))"
   ]
  },
  {
   "cell_type": "markdown",
   "metadata": {},
   "source": [
    "## Challenge 1: Boolean Errors\n",
    "\n",
    "The following cell gives error(s). Identify each error and how to fix it. \n",
    "\n",
    "What is the output of the cell?"
   ]
  },
  {
   "cell_type": "code",
   "execution_count": 22,
   "metadata": {},
   "outputs": [
    {
     "ename": "SyntaxError",
     "evalue": "invalid syntax (<ipython-input-22-704c5511e8ab>, line 5)",
     "output_type": "error",
     "traceback": [
      "\u001b[0;36m  File \u001b[0;32m\"<ipython-input-22-704c5511e8ab>\"\u001b[0;36m, line \u001b[0;32m5\u001b[0m\n\u001b[0;31m    print((number_of_trees > 14) and (number_of_trees = number_of_shrubs) or not (has_flowers))\u001b[0m\n\u001b[0m                                                      ^\u001b[0m\n\u001b[0;31mSyntaxError\u001b[0m\u001b[0;31m:\u001b[0m invalid syntax\n"
     ]
    }
   ],
   "source": [
    "number_of_trees = 14\n",
    "number_of_shrubs = 8\n",
    "has_flowers = TRUE\n",
    "\n",
    "print((number_of_trees > 14) and (number_of_trees = number_of_shrubs) or not (has_flowers))\n"
   ]
  },
  {
   "cell_type": "markdown",
   "metadata": {},
   "source": [
    "## Boolean Masks\n",
    "\n",
    "A *boolean mask* takes a conditional statement and generates a series with True where the condition is met, and False where the condition is not met. This is useful for working with tabular data like DataFrames.\n",
    "\n",
    "\n",
    "Let's say we want to take the mountains and see how many of the mountains have an elevation over 14200 feet. We can use a boolean mask for this."
   ]
  },
  {
   "cell_type": "code",
   "execution_count": 39,
   "metadata": {},
   "outputs": [
    {
     "data": {
      "text/plain": [
       "0     True\n",
       "1     True\n",
       "2     True\n",
       "3     True\n",
       "4    False\n",
       "5    False\n",
       "Name: elevation, dtype: bool"
      ]
     },
     "execution_count": 39,
     "metadata": {},
     "output_type": "execute_result"
    }
   ],
   "source": [
    "import pandas as pd\n",
    "mountain_df = pd.DataFrame({'mountain':['Mount Whitney','Mount Williamson','White Mountain Peak','North Palisade','Mt Shasta','Mount Humphreys'],\n",
    "              'range':['Sierra Nevada','Sierra Nevada','White Mountains','Sierra Nevada','Cascade Range','Sierra Nevada'],\n",
    "              'elevation':[14505,14379,14252,14248,14179,13992]})\n",
    "\n",
    "\n",
    "#Select column and apply a boolean mask\n",
    "mountain_df['elevation'] > 14200"
   ]
  },
  {
   "cell_type": "markdown",
   "metadata": {},
   "source": [
    "Run the cell below. What does the following code do? What does the result represent? "
   ]
  },
  {
   "cell_type": "code",
   "execution_count": 40,
   "metadata": {},
   "outputs": [
    {
     "data": {
      "text/plain": [
       "4"
      ]
     },
     "execution_count": 40,
     "metadata": {},
     "output_type": "execute_result"
    }
   ],
   "source": [
    "sum(mountain_df['elevation'] > 14200)"
   ]
  },
  {
   "cell_type": "markdown",
   "metadata": {},
   "source": [
    "Using boolean mask + sum is a quick trick that is useful for summarizing column data.\n",
    "\n",
    "If we want to see the proportion of the data that is true, we can take this one step farther. "
   ]
  },
  {
   "cell_type": "code",
   "execution_count": 41,
   "metadata": {},
   "outputs": [
    {
     "data": {
      "text/plain": [
       "0.6666666666666666"
      ]
     },
     "execution_count": 41,
     "metadata": {},
     "output_type": "execute_result"
    }
   ],
   "source": [
    "sum(mountain_df['elevation'] > 14200) / len(mountain_df['elevation'])"
   ]
  },
  {
   "cell_type": "markdown",
   "metadata": {},
   "source": [
    "# Using conditionals\n",
    "\n",
    "## `if`\n",
    "\n",
    "*   An `if` statement (more properly called a *conditional* statement)\n",
    "    controls whether some block of code is executed or not.\n",
    "*   Structure is similar to a `for` statement:\n",
    "    *   First line opens with `if`, contains a *Boolean* variable or expression, and ends with a colon\n",
    "    *   Body containing one or more statements is indented (usually by 4 spaces)\n",
    "* If the condition is met, the intended block is run, if the condition is not met, the code is skipped.\n",
    "* This is a powerful tool that helps us deal with data more flexibly\n"
   ]
  },
  {
   "cell_type": "code",
   "execution_count": 37,
   "metadata": {},
   "outputs": [
    {
     "name": "stdout",
     "output_type": "stream",
     "text": [
      "105 is high\n",
      "60 is medium\n"
     ]
    }
   ],
   "source": [
    "num = 105\n",
    "if num > 100:\n",
    "    print(num, 'is high')\n",
    "\n",
    "num = 60\n",
    "if num > 50:\n",
    "    print (num, 'is medium')"
   ]
  },
  {
   "cell_type": "markdown",
   "metadata": {},
   "source": [
    "\n",
    "## Conditionals and loops\n",
    "\n",
    "*   There's not much point using a conditional when we know the value (as above).\n",
    "*   But it's useful when we have a list to process."
   ]
  },
  {
   "cell_type": "code",
   "execution_count": 38,
   "metadata": {},
   "outputs": [],
   "source": [
    "num = [20, 43, 12, 88, 97]\n",
    "for number in num:\n",
    "    if number > 100:\n",
    "        print(number, 'is high')"
   ]
  },
  {
   "cell_type": "markdown",
   "metadata": {},
   "source": [
    "## `else`\n",
    "\n",
    "*   `else` is always attached to `if`.\n",
    "*   Allows us to specify an alternative to execute when the `if` *branch* isn't taken.\n"
   ]
  },
  {
   "cell_type": "code",
   "execution_count": 45,
   "metadata": {},
   "outputs": [
    {
     "name": "stdout",
     "output_type": "stream",
     "text": [
      "20 is not high\n",
      "43 is not high\n",
      "12 is not high\n",
      "88 is not high\n",
      "97 is not high\n"
     ]
    }
   ],
   "source": [
    "num = [20, 43, 12, 88, 97]\n",
    "for number in num:\n",
    "    if number > 100:\n",
    "        print(number, 'is high')\n",
    "    else:\n",
    "        print(number, 'is not high')"
   ]
  },
  {
   "cell_type": "markdown",
   "metadata": {},
   "source": [
    "## `elif`\n",
    "\n",
    "*   May want to provide several alternative choices, each with its own test.\n",
    "*   Use `elif` (short for \"else if\") and a condition to specify these.\n",
    "*   Always associated with an `if`.\n",
    "*   Must come before the `else` (which is the \"catch all\").\n"
   ]
  },
  {
   "cell_type": "code",
   "execution_count": 46,
   "metadata": {},
   "outputs": [
    {
     "name": "stdout",
     "output_type": "stream",
     "text": [
      "20 is low\n",
      "43 is low\n",
      "12 is low\n",
      "88 is medium\n",
      "97 is medium\n"
     ]
    }
   ],
   "source": [
    "num = [20, 43, 12, 88, 97]\n",
    "for number in num:\n",
    "    if number > 100:\n",
    "        print(number, 'is high')\n",
    "    elif number > 50:\n",
    "        print(number, 'is medium')\n",
    "    else:\n",
    "        print(number, 'is low')"
   ]
  },
  {
   "cell_type": "markdown",
   "metadata": {},
   "source": [
    "## Challenge 2: if, else, elif\n",
    "\n",
    "For each number in the list, predict the result. Run the code. Does the result match your expectations? If not, why?\n",
    "\n",
    "Consider:\n",
    "1. How many 'a' grades do you expect based on the input? How many are in the output?\n",
    "2. Are there multiple outputs per score? \n",
    "3. Are the scores assigned the correct letter grades?\n"
   ]
  },
  {
   "cell_type": "code",
   "execution_count": 64,
   "metadata": {},
   "outputs": [
    {
     "name": "stdout",
     "output_type": "stream",
     "text": [
      "80 is a b grade\n",
      "80 is a c grade\n",
      "85 is a b grade\n",
      "85 is a c grade\n",
      "99 is a b grade\n",
      "99 is a c grade\n",
      "75 is a c grade\n",
      "70 is a c grade\n",
      "68 is a d grade\n"
     ]
    }
   ],
   "source": [
    "scores = [80,85,99,75,70,68]\n",
    "\n",
    "for s in scores:\n",
    "    if s >= 80:\n",
    "        print(s, 'is a b grade')\n",
    "    elif s >= 90:\n",
    "        print(s, 'is an a grade')\n",
    "    if s >= 70:\n",
    "        print(s, 'is a c grade')\n",
    "    else:\n",
    "        print(s, 'is a d grade')\n"
   ]
  },
  {
   "cell_type": "markdown",
   "metadata": {},
   "source": [
    "The order of the if and elif statements matters. When one `if`/`elif` statement is met, all following statements are skipped.  If there are multiple `if` statements, then each statement is evaluated separately. These kinds of errors won't give errors in the code, but they will give results that might not make sense, which can take longer to find and debug."
   ]
  },
  {
   "cell_type": "markdown",
   "metadata": {},
   "source": [
    "## Challenge 1: Trimming Values\n",
    "\n",
    "Fill in the blanks so that this program creates a new list\n",
    "containing zeroes where the original list's values were negative\n",
    "and ones where the original list's values were 0 or above.\n"
   ]
  },
  {
   "cell_type": "code",
   "execution_count": null,
   "metadata": {},
   "outputs": [],
   "source": [
    "original = [-1.5, 0.2, 0.4, 0.0, -1.3, 0.4]\n",
    "result = ____\n",
    "for value in original:\n",
    "    if ____:\n",
    "        result.append(0)\n",
    "    else:\n",
    "        ____\n",
    "print(result)"
   ]
  },
  {
   "cell_type": "markdown",
   "metadata": {},
   "source": [
    "## Challenge 3: String Conditionals\n",
    "\n",
    "Here are our presidents again. Create a list of all the presidents whose last name starts with the letter B.\n"
   ]
  },
  {
   "cell_type": "code",
   "execution_count": 1,
   "metadata": {},
   "outputs": [],
   "source": [
    "presidents_full = [\"George Washington\", \"John Adams\", \"Thomas Jefferson\", \"James Madison\", \"James Monroe\", \\\n",
    "        \"John Quincy Adams\", \"Andrew Jackson\", \"Martin Van Buren\", \"William Henry Harrison\", \"John Tyler\", \\\n",
    "        \"James K. Polk\", \"Zachary Taylor\", \"Millard Fillmore\", \"Franklin Pierce\", \"James Buchanan\", \\\n",
    "        \"Abraham Lincoln\", \"Andrew Johnson\", \"Ulysses S. Grant\", \"Rutherford B. Hayes\", \"James A. Garfield\", \\\n",
    "        \"Chester A. Arthur\", \"Grover Cleveland\", \"Benjamin Harrison\", \"Grover Cleveland\", \"William McKinley\", \\\n",
    "        \"Theodore Roosevelt\", \"William Howard Taft\", \"Woodrow Wilson\", \"Warren G. Harding\", \"Calvin Coolidge\", \\\n",
    "        \"Herbert Hoover\", \"Franklin D. Roosevelt\", \"Harry S. Truman\", \"Dwight D. Eisenhower\", \"John F. Kennedy\", \\\n",
    "        \"Lyndon B. Johnson\", \"Richard Nixon\", \"Gerald Ford\", \"Jimmy Carter\", \"Ronald Reagan\", \"George H. W. Bush\", \\\n",
    "        \"Bill Clinton\", \"George W. Bush\", \"Barack Obama\"]"
   ]
  },
  {
   "cell_type": "code",
   "execution_count": null,
   "metadata": {},
   "outputs": [],
   "source": []
  },
  {
   "cell_type": "markdown",
   "metadata": {
    "collapsed": true
   },
   "source": [
    "*****\n",
    "\n",
    "## Keypoints\n",
    "\n",
    "1. Use `if` statements to control whether or not a block of code is executed.\n",
    "2. Conditionals are often used inside loops.\n",
    "3. Use `else` to execute a block of code when an `if` condition is *not* true.\n",
    "4. Use `elif` to specify additional tests.\n",
    "5. Use boolean operators to make complex statements.\n",
    "6. Conditions are tested once, in order."
   ]
  },
  {
   "cell_type": "code",
   "execution_count": null,
   "metadata": {},
   "outputs": [],
   "source": []
  }
 ],
 "metadata": {
  "kernelspec": {
   "display_name": "Python 3",
   "language": "python",
   "name": "python3"
  },
  "language_info": {
   "codemirror_mode": {
    "name": "ipython",
    "version": 3
   },
   "file_extension": ".py",
   "mimetype": "text/x-python",
   "name": "python",
   "nbconvert_exporter": "python",
   "pygments_lexer": "ipython3",
   "version": "3.7.6"
  }
 },
 "nbformat": 4,
 "nbformat_minor": 1
}
