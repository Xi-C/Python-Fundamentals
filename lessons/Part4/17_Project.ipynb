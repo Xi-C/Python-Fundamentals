{
 "cells": [
  {
   "cell_type": "code",
   "execution_count": 1,
   "metadata": {},
   "outputs": [],
   "source": [
    "# Get a dataset (Ideally something with multiple )\n",
    "# import files\n",
    "\n",
    "# Light preprocessing df manipulation (write a couple of functions)\n",
    "\n",
    "# One statistical model, one visualization"
   ]
  },
  {
   "cell_type": "markdown",
   "metadata": {},
   "source": [
    "## Introducing the Dataset\n",
    "\n",
    "- airline tweet dataset\n",
    "\n"
   ]
  },
  {
   "cell_type": "markdown",
   "metadata": {},
   "source": [
    "## Import data:\n",
    "\n",
    "Skills to include: \n",
    "- import multiple files in a directory, (with some simple parsing funtions) (for-loop, if statement to filter for the relevant files)\n",
    "- combine them into a single dataframe (pd.concat)\n",
    "- combine into parse files function\n"
   ]
  },
  {
   "cell_type": "markdown",
   "metadata": {},
   "source": [
    "## Basic processing\n",
    "\n",
    "Skills:\n",
    "- Subsetting a dataframe\n",
    "- Modifying a column\n",
    "- numpy \n",
    "- feature engineering \n",
    "- introduce a new package (string processing)\n"
   ]
  },
  {
   "cell_type": "markdown",
   "metadata": {},
   "source": [
    "## One statistical model \n",
    "\n",
    "linear regression on retweets? \n",
    "\n",
    "\n"
   ]
  },
  {
   "cell_type": "markdown",
   "metadata": {},
   "source": [
    "## One visualization\n",
    "\n",
    "date time? "
   ]
  },
  {
   "cell_type": "code",
   "execution_count": null,
   "metadata": {},
   "outputs": [],
   "source": []
  }
 ],
 "metadata": {
  "kernelspec": {
   "display_name": "Python 3",
   "language": "python",
   "name": "python3"
  },
  "language_info": {
   "codemirror_mode": {
    "name": "ipython",
    "version": 3
   },
   "file_extension": ".py",
   "mimetype": "text/x-python",
   "name": "python",
   "nbconvert_exporter": "python",
   "pygments_lexer": "ipython3",
   "version": "3.7.6"
  }
 },
 "nbformat": 4,
 "nbformat_minor": 4
}
