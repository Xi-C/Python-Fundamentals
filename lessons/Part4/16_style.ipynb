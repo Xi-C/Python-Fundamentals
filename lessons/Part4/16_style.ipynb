{
 "cells": [
  {
   "cell_type": "markdown",
   "metadata": {},
   "source": [
    "# Programming Style\n",
    "\n",
    "\n",
    "**Learning Objectives**:\n",
    "- Learn how to write code for others\n",
    "- Understand why good style improves code quality\n",
    "- Explore the Python PEP 8 style guide\n",
    "\n",
    "* * * * *\n",
    "\n",
    "## Readability is a priority\n",
    "\n",
    "- If you ask Python programmers what they like most in Python, they will often say its high readability.\n",
    "- Indeed, a high level of readability is at the heart of the design of the Python language, following the recognised fact that code is read much more often than it is written.\n"
   ]
  },
  {
   "cell_type": "markdown",
   "metadata": {},
   "source": [
    "## Comments and docstrings\n",
    "\n",
    "Docstrings = **How to use** code\n",
    "\n",
    "Comments = **Why** (rationale) & **how** code works\n",
    "\n",
    "\n",
    "Comments explain why, and are for the maintainers of your code. Examples include notes to yourself, like: "
   ]
  },
  {
   "cell_type": "code",
   "execution_count": 9,
   "metadata": {},
   "outputs": [],
   "source": [
    "# !!! BUG: ...\n",
    "\n",
    "# !!! FIX: This is a hack, refactor later\n",
    "\n",
    "# ??? Why is this here?\n",
    "\n",
    "# XXX This is where I stopped checking"
   ]
  },
  {
   "cell_type": "markdown",
   "metadata": {},
   "source": [
    "Docstrings explain how to use code, and are for the **users** of your code. Uses of docstrings:\n",
    "\n",
    "* Explain the purpose of the function even if it seems obvious to you, because it might not be obvious to someone else later on.\n",
    "* Describe the parameters expected, the return values.\n"
   ]
  },
  {
   "cell_type": "code",
   "execution_count": 5,
   "metadata": {},
   "outputs": [],
   "source": [
    "def even_or_odd(x=0):\n",
    "    \"\"\"\n",
    "    \"Find whether a number x is even or odd.\n",
    "     >>> even_or_odd(10)\n",
    "     'Even!'\n",
    "     >>> even_or_odd(5)\n",
    "     'Odd!'\n",
    "\n",
    "     note that whenever a float is provided, then\n",
    "     the closest [integer](https://github.com/dlab-berkeley/python-intensive/blob/master/Glossary.md#integer) is used 22 >>> even_or_odd(3.2)\n",
    "     >>> even_or_odd(3.2)\n",
    "    '3 is Odd!'\n",
    "     in case of negative numbers, the positive is taken\n",
    "     >>> even_or_odd(-2) 28 '-2 is Even!'\n",
    "     \"\"\"\n",
    "    #check if even\n",
    "    if x % 2 == 0:\n",
    "         return \"Even!\" \n",
    "    return \"Odd!\" "
   ]
  },
  {
   "cell_type": "markdown",
   "metadata": {},
   "source": [
    "When using Python in interactive mode from the shell, you can use the help() function to see the docstring. In Jupyter, you can see it like so:"
   ]
  },
  {
   "cell_type": "code",
   "execution_count": 3,
   "metadata": {},
   "outputs": [],
   "source": [
    "?even_or_odd"
   ]
  },
  {
   "cell_type": "markdown",
   "metadata": {},
   "source": [
    "False comments & docstrings are worse than none at all. So keep them up to date! When you make changes, make sure the comments & docstrings are consistent with the code, and don't contradict it.\n",
    "\n",
    "There's an entire PEP about docstrings, PEP 257, \"Docstring Conventions\":\n",
    "\n",
    "http://www.python.org/dev/peps/pep-0257/"
   ]
  },
  {
   "cell_type": "markdown",
   "metadata": {},
   "source": [
    "## Long Lines & Continuations\n",
    "\n",
    "* Keep lines short enough that you don't need to scroll\n",
    "\n",
    "* Use implied line continuation inside parentheses:"
   ]
  },
  {
   "cell_type": "code",
   "execution_count": null,
   "metadata": {},
   "outputs": [],
   "source": [
    "my_very_big_string = (\n",
    "    \"For a long time I used to go to bed early. Sometimes, \"\n",
    "    \"when I had put out my candle, my eyes would close so quickly \"\n",
    "    \"that I had not even time to say “I’m going to sleep.”\"\n",
    ")\n",
    "\n",
    "from some.deep.module.inside.a.module import (\n",
    "    a_nice_function, another_nice_function, yet_another_nice_function)"
   ]
  },
  {
   "cell_type": "markdown",
   "metadata": {},
   "source": [
    "## Pythonic coding\n",
    "\n",
    "The following two approaches are equivalent. Which do you find easier to read?\n"
   ]
  },
  {
   "cell_type": "code",
   "execution_count": 17,
   "metadata": {},
   "outputs": [
    {
     "name": "stdout",
     "output_type": "stream",
     "text": [
      "S S\n"
     ]
    }
   ],
   "source": [
    "s = 'sample.thing'\n",
    "\n",
    "#first approach\n",
    "slist = s.split('.')\n",
    "first_word = slist[0]\n",
    "first_letter = first[0]\n",
    "first_upper = first.upper()\n",
    "\n",
    "\n",
    "second_upper = s.split('.')[0][0].upper()\n",
    "\n",
    "print(first_upper, second_upper)"
   ]
  },
  {
   "cell_type": "markdown",
   "metadata": {},
   "source": [
    "Generally, the second approach is preferred, when possible. \n",
    "\n",
    "- It uses less lines of code\n",
    "- It avoids needing to track and remember many variable names\n",
    "- It is highly readable if you are familiar with Python\n",
    "\n",
    "However, disadvantages of the second approach are:\n",
    "\n",
    "- Harder to follow the steps sometimes\n",
    "- Harder to debug\n",
    "\n",
    "One approach is to write out chunks of code the first way when debugging, then condensing them into fewer lines once the debugging is complete."
   ]
  },
  {
   "cell_type": "markdown",
   "metadata": {},
   "source": [
    "## Naming conventions\n",
    "\n",
    "\"The best programmer is the one who can come up with the best names\"\n",
    "\n",
    "* Good names replace comments and make code self-documenting\n",
    "* variables, functions, files, etc. should consist of complete words. Try to avoid abbreviations.\n",
    "* Use this principle in your coding: frequent=short; infrequent=long"
   ]
  },
  {
   "cell_type": "code",
   "execution_count": 18,
   "metadata": {},
   "outputs": [],
   "source": [
    "# bad code\n",
    "a = 1\n",
    "a = 'a string'\n",
    "def a():\n",
    "    pass  # Do something\n",
    "\n",
    "# good code\n",
    "count = 1\n",
    "msg = 'a string'\n",
    "def func():\n",
    "    pass  # Do something"
   ]
  },
  {
   "cell_type": "markdown",
   "metadata": {},
   "source": [
    "Because of implicit type conversion, it is better to use different names even for things that are related, when they have a different type:"
   ]
  },
  {
   "cell_type": "code",
   "execution_count": 8,
   "metadata": {},
   "outputs": [],
   "source": [
    "# this is bad\n",
    "items = 'a b c d'  # This is a string...\n",
    "items = items.split(' ')  # ...becoming a list\n",
    "items = set(items)  # ...and then a set\n",
    "\n",
    "#better:\n",
    "letters = 'a b c d' \n",
    "letters_list = letters.split(' ')\n",
    "letters_set = set(letters_list)"
   ]
  },
  {
   "cell_type": "markdown",
   "metadata": {},
   "source": [
    "There is no efficiency gain when reusing names: the assignments will have to create new objects anyway. However, when the complexity grows and each assignment is separated by other lines of code, including ‘if’ branches and loops, it becomes harder to ascertain what a given variable’s [type](https://github.com/dlab-berkeley/python-intensive/blob/master/Glossary.md#type) is."
   ]
  },
  {
   "cell_type": "markdown",
   "metadata": {},
   "source": [
    "Here are some more style rules from PEP:\n",
    "\n",
    "* joined_lower for functions, methods, attributes\n",
    "* joined_lower or ALL_CAPS for constants\n",
    "* StudlyCaps for classes\n",
    "* camelCase only to conform to pre-existing conventions"
   ]
  },
  {
   "cell_type": "markdown",
   "metadata": {},
   "source": [
    "## Don't reinvent the wheel\n",
    "\n",
    "Before writing any code,\n",
    "\n",
    "* Check Python's standard library.\n",
    "\n",
    "* Check the Python Package Index (the \"Cheese Shop\"): http://cheeseshop.python.org/pypi\n",
    "\n",
    "* Search the web. Google is your friend."
   ]
  },
  {
   "cell_type": "markdown",
   "metadata": {},
   "source": [
    "## Learn more:\n",
    "\n",
    "* \"Code like a Pythonist\" http://python.net/~goodger/projects/pycon/2007/idiomatic/handout.html)\n",
    "* \"Pep Styleguide\", https://www.python.org/dev/peps/pep-0008/)\n",
    "* \"Python Objects\", Fredrik Lundh, http://www.effbot.org/zone/python-objects.htm\n",
    "* \"Python track: python idioms\", http://www.cs.caltech.edu/courses/cs11/material/python/misc/python_idioms.html\n",
    "* \"Be Pythonic\", Shalabh Chaturvedi, http://www.cafepy.com/article/be_pythonic/ (PDF version)\n",
    "* \"Python Idioms\", http://www.gungfu.de/facts/wiki/Main/PythonIdioms\n",
    "* \"The Hitchhiker’s Guide to Python\", http://docs.python-guide.org/en/latest/\n",
    "* \"What is Pythonic?\", http://blog.startifact.com/posts/older/what-is-pythonic.html"
   ]
  }
 ],
 "metadata": {
  "kernelspec": {
   "display_name": "Python 3",
   "language": "python",
   "name": "python3"
  },
  "language_info": {
   "codemirror_mode": {
    "name": "ipython",
    "version": 3
   },
   "file_extension": ".py",
   "mimetype": "text/x-python",
   "name": "python",
   "nbconvert_exporter": "python",
   "pygments_lexer": "ipython3",
   "version": "3.7.6"
  }
 },
 "nbformat": 4,
 "nbformat_minor": 1
}
