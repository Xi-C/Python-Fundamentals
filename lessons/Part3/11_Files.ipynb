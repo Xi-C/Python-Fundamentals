{
 "cells": [
  {
   "cell_type": "markdown",
   "metadata": {},
   "source": [
    "# Working with Files\n",
    "\n",
    "**Learning Objectives**:\n",
    "- Read / write files using base Python and the pandas package\n",
    "- Use the `os` package to loop through multiple files\n"
   ]
  },
  {
   "cell_type": "markdown",
   "metadata": {},
   "source": [
    "# Importing a single file \n",
    "\n",
    "## Using `open`\n",
    "\n",
    "The base Python way of importing files uses three basic steps:\n",
    "\n",
    "1. Opening the file\n",
    "2. Reading the file\n",
    "3. Closing the file\n",
    "\n",
    "\n",
    "Let's open the file below. What type is the `text` variable? What additional processing is needed to parse this file?"
   ]
  },
  {
   "cell_type": "code",
   "execution_count": 9,
   "metadata": {},
   "outputs": [
    {
     "name": "stdout",
     "output_type": "stream",
     "text": [
      "Country,Capital,Latitude,Longitude\n",
      "Afghanistan,Kabul,34¡28'N,69¡11'E\n",
      "Albania,Tirane,41¡18'N,19¡49'E\n",
      "Algeria,Algiers,36¡42'N,03¡08'E\n",
      "American Samoa,Pago Pago,14¡16'S,170¡43'W\n",
      "Andorra,Andorra la Vella,42¡31'N,01¡32'E\n",
      "Angola,Luanda,08¡50'S,13¡15'E\n",
      "Antigua and Barbuda,W. Indies,17¡20'N,61¡48'W\n",
      "Argentina,Buenos Aires,36¡30'S,60¡00'W\n",
      "Armenia,Yerevan,40¡10'N,44¡31'E\n",
      "Aruba,Oranjestad,12¡32'N,70¡02'W\n",
      "Australia,Canberra,35¡15'S,149¡08'E\n",
      "Austria,Vienna,48¡12'N,16¡22'E\n",
      "Azerbaijan,Baku,40¡29'N,49¡56'E\n",
      "Bahamas,Nassau,25¡05'N,77¡20'W\n",
      "Bahrain,Manama,26¡10'N,50¡30'E\n",
      "Bangladesh,Dhaka,23¡43'N,90¡26'E\n",
      "Barbados,Bridgetown,13¡05'N,59¡30'W\n",
      "Belarus,Minsk,53¡52'N,27¡30'E\n",
      "Belgium,Brussels,50¡51'N,04¡21'E\n",
      "Belize,Belmopan,17¡18'N,88¡30'W\n",
      "Benin,Porto-Novo (constitutional cotonou) (seat of gvnt),06¡23'N,02¡42'E\n",
      "Bhutan,Thimphu,27¡31'N,89¡45'E\n",
      "Bolivia,La Paz (adm.)/sucre (legislative),16¡20'S,68¡10'W\n",
      "Bosnia and Herzegovina,Sarajevo,43¡52'N,18¡26'E\n",
      "Botswana,Gaborone,24¡45'S,25¡57'E\n",
      "Brazil,Brasilia,15¡47'S,47¡55'W\n",
      "British Virgin Islands,Road Town,18¡27'N,64¡37'W\n",
      "Brunei Darussalam,Bandar Seri Begawan,04¡52'N,115¡00'E\n",
      "Bulgaria,Sofia,42¡45'N,23¡20'E\n",
      "Burkina Faso,Ouagadougou,12¡15'N,01¡30'W\n",
      "Burundi,Bujumbura,03¡16'S,29¡18'E\n",
      "Cambodia,Phnom Penh,11¡33'N,104¡55'E\n",
      "Cameroon,Yaounde,03¡50'N,11¡35'E\n",
      "Canada,Ottawa,45¡27'N,75¡42'W\n",
      "Cape Verde,Praia,15¡02'N,23¡34'W\n",
      "Cayman Islands,George Town,19¡20'N,81¡24'W\n",
      "Central African Republic,Bangui,04¡23'N,18¡35'E\n",
      "Chad,N'Djamena,12¡10'N,14¡59'E\n",
      "Chile,Santiago,33¡24'S,70¡40'W\n",
      "China,Beijing,39¡55'N,116¡20'E\n",
      "Colombia,Bogota,04¡34'N,74¡00'W\n",
      "Comros,Moroni,11¡40'S,43¡16'E\n",
      "Congo,Brazzaville,04¡09'S,15¡12'E\n",
      "Costa Rica,San Jose,09¡55'N,84¡02'W\n",
      "Cote d'Ivoire,Yamoussoukro,06¡49'N,05¡17'W\n",
      "Croatia,Zagreb,45¡50'N,15¡58'E\n",
      "Cuba,Havana,23¡08'N,82¡22'W\n",
      "Cyprus,Nicosia,35¡10'N,33¡25'E\n",
      "Czech Republic,Prague,50¡05'N,14¡22'E\n",
      "Democratic People's Republic of,P'yongyang,39¡09'N,125¡30'E\n",
      "Democratic Republic of the Congo,Kinshasa,04¡20'S,15¡15'E\n",
      "Denmark,Copenhagen,55¡41'N,12¡34'E\n",
      "Djibouti,Djibouti,11¡08'N,42¡20'E\n",
      "Dominica,Roseau,15¡20'N,61¡24'W\n",
      "Dominica Republic,Santo Domingo,18¡30'N,69¡59'W\n",
      "East Timor,Dili,08¡29'S,125¡34'E\n",
      "Ecuador,Quito,00¡15'S,78¡35'W\n",
      "Egypt,Cairo,30¡01'N,31¡14'E\n",
      "El Salvador,San Salvador,13¡40'N,89¡10'W\n",
      "Equatorial Guinea,Malabo,03¡45'N,08¡50'E\n",
      "Eritrea,Asmara,15¡19'N,38¡55'E\n",
      "Estonia,Tallinn,59¡22'N,24¡48'E\n",
      "Ethiopia,Addis Ababa,09¡02'N,38¡42'E\n",
      "Falkland Islands (Malvinas),Stanley,51¡40'S,59¡51'W\n",
      "Faroe Islands,Torshavn,62¡05'N,06¡56'W\n",
      "Fiji,Suva,18¡06'S,178¡30'E\n",
      "Finland,Helsinki,60¡15'N,25¡03'E\n",
      "France,Paris,48¡50'N,02¡20'E\n",
      "French Guiana,Cayenne,05¡05'N,52¡18'W\n",
      "French Polynesia,Papeete,17¡32'S,149¡34'W\n",
      "Gabon,Libreville,00¡25'N,09¡26'E\n",
      "Gambia,Banjul,13¡28'N,16¡40'W\n",
      "Georgia,T'bilisi,41¡43'N,44¡50'E\n",
      "Germany,Berlin,52¡30'N,13¡25'E\n",
      "Ghana,Accra,05¡35'N,00¡06'W\n",
      "Greece,Athens,37¡58'N,23¡46'E\n",
      "Greenland,Nuuk,64¡10'N,51¡35'W\n",
      "Guadeloupe,Basse-Terre,16¡00'N,61¡44'W\n",
      "Guatemala,Guatemala,14¡40'N,90¡22'W\n",
      "Guernsey,St. Peter Port,49¡26'N,02¡33'W\n",
      "Guinea,Conakry,09¡29'N,13¡49'W\n",
      "Guinea-Bissau,Bissau,11¡45'N,15¡45'W\n",
      "Guyana,Georgetown,06¡50'N,58¡12'W\n",
      "Haiti,Port-au-Prince,18¡40'N,72¡20'W\n",
      "Heard Island and McDonald Islands,,53¡00'S,74¡00'E\n",
      "Honduras,Tegucigalpa,14¡05'N,87¡14'W\n",
      "Hungary,Budapest,47¡29'N,19¡05'E\n",
      "Iceland,Reykjavik,64¡10'N,21¡57'W\n",
      "India,New Delhi,28¡37'N,77¡13'E\n",
      "Indonesia,Jakarta,06¡09'S,106¡49'E\n",
      "Iran (Islamic Republic of),Tehran,35¡44'N,51¡30'E\n",
      "Iraq,Baghdad,33¡20'N,44¡30'E\n",
      "Ireland,Dublin,53¡21'N,06¡15'W\n",
      "Israel,Jerusalem,31¡47'N,35¡12'E\n",
      "Italy,Rome,41¡54'N,12¡29'E\n",
      "Jamaica,Kingston,18¡00'N,76¡50'W\n",
      "Jordan,Amman,31¡57'N,35¡52'E\n",
      "Kazakhstan,Astana,51¡10'N,71¡30'E\n",
      "Kenya,Nairobi,01¡17'S,36¡48'E\n",
      "Kiribati,Tarawa,01¡30'N,173¡00'E\n",
      "Kuwait,Kuwait,29¡30'N,48¡00'E\n",
      "Kyrgyzstan,Bishkek,42¡54'N,74¡46'E\n",
      "Lao People's Democratic Republic,Vientiane,17¡58'N,102¡36'E\n",
      "Latvia,Riga,56¡53'N,24¡08'E\n",
      "Lebanon,Beirut,33¡53'N,35¡31'E\n",
      "Lesotho,Maseru,29¡18'S,27¡30'E\n",
      "Liberia,Monrovia,06¡18'N,10¡47'W\n",
      "Libyan Arab Jamahiriya,Tripoli,32¡49'N,13¡07'E\n",
      "Liechtenstein,Vaduz,47¡08'N,09¡31'E\n",
      "Lithuania,Vilnius,54¡38'N,25¡19'E\n",
      "Luxembourg,Luxembourg,49¡37'N,06¡09'E\n",
      "\"Macao, China\",Macau,22¡12'N,113¡33'E\n",
      "Madagascar,Antananarivo,18¡55'S,47¡31'E\n",
      "Malawi,Lilongwe,14¡00'S,33¡48'E\n",
      "Malaysia,Kuala Lumpur,03¡09'N,101¡41'E\n",
      "Maldives,Male,04¡00'N,73¡28'E\n",
      "Mali,Bamako,12¡34'N,07¡55'W\n",
      "Malta,Valletta,35¡54'N,14¡31'E\n",
      "Martinique,Fort-de-France,14¡36'N,61¡02'W\n",
      "Mauritania,Nouakchott,20¡10'S,57¡30'E\n",
      "Mayotte,Mamoudzou,12¡48'S,45¡14'E\n",
      "Mexico,Mexico,19¡20'N,99¡10'W\n",
      "Micronesia (Federated States of),Palikir,06¡55'N,158¡09'E\n",
      "\"Moldova, Republic of\",Chisinau,47¡02'N,28¡50'E\n",
      "Mozambique,Maputo,25¡58'S,32¡32'E\n",
      "Myanmar,Yangon,16¡45'N,96¡20'E\n",
      "Namibia,Windhoek,22¡35'S,17¡04'E\n",
      "Nepal,Kathmandu,27¡45'N,85¡20'E\n",
      "Netherlands,Amsterdam/The Hague (seat of Gvnt),52¡23'N,04¡54'E\n",
      "Netherlands Antilles,Willemstad,12¡05'N,69¡00'W\n",
      "New Caledonia,Noumea,22¡17'S,166¡30'E\n",
      "New Zealand,Wellington,41¡19'S,174¡46'E\n",
      "Nicaragua,Managua,12¡06'N,86¡20'W\n",
      "Niger,Niamey,13¡27'N,02¡06'E\n",
      "Nigeria,Abuja,09¡05'N,07¡32'E\n",
      "Norfolk Island,Kingston,45¡20'S,168¡43'E\n",
      "Northern Mariana Islands,Saipan,15¡12'N,145¡45'E\n",
      "Norway,Oslo,59¡55'N,10¡45'E\n",
      "Oman,Masqat,23¡37'N,58¡36'E\n",
      "Pakistan,Islamabad,33¡40'N,73¡10'E\n",
      "Palau,Koror,07¡20'N,134¡28'E\n",
      "Panama,Panama,09¡00'N,79¡25'W\n",
      "Papua New Guinea,Port Moresby,09¡24'S,147¡08'E\n",
      "Paraguay,Asuncion,25¡10'S,57¡30'W\n",
      "Peru,Lima,12¡00'S,77¡00'W\n",
      "Philippines,Manila,14¡40'N,121¡03'E\n",
      "Poland,Warsaw,52¡13'N,21¡00'E\n",
      "Portugal,Lisbon,38¡42'N,09¡10'W\n",
      "Puerto Rico,San Juan,18¡28'N,66¡07'W\n",
      "Qatar,Doha,25¡15'N,51¡35'E\n",
      "Republic of Korea,Seoul,37¡31'N,126¡58'E\n",
      "Romania,Bucuresti,44¡27'N,26¡10'E\n",
      "Russian Federation,Moskva,55¡45'N,37¡35'E\n",
      "Rawanda,Kigali,01¡59'S,30¡04'E\n",
      "Saint Kitts and Nevis,Basseterre,17¡17'N,62¡43'W\n",
      "Saint Lucia,Castries,14¡02'N,60¡58'W\n",
      "Saint Pierre and Miquelon,Saint-Pierre,46¡46'N,56¡12'W\n",
      "Saint vincent and the Grenadines,Kingstown,13¡10'N,61¡10'W\n",
      "Samoa,Apia,13¡50'S,171¡50'W\n",
      "San Marino,San Marino,43¡55'N,12¡30'E\n",
      "Sao Tome and Principe,Sao Tome,00¡10'N,06¡39'E\n",
      "Saudi Arabia,Riyadh,24¡41'N,46¡42'E\n",
      "Senegal,Dakar,14¡34'N,17¡29'W\n",
      "Sierra Leone,Freetown,08¡30'N,13¡17'W\n",
      "Slovakia,Bratislava,48¡10'N,17¡07'E\n",
      "Slovenia,Ljubljana,46¡04'N,14¡33'E\n",
      "Solomon Islands,Honiara,09¡27'S,159¡57'E\n",
      "Somalia,Mogadishu,02¡02'N,45¡25'E\n",
      "South Africa,Pretoria (adm.) / Cap Town (Legislative) / Bloemfontein (Judicial),25¡44'S,28¡12'E\n",
      "Spain,Madrid,40¡25'N,03¡45'W\n",
      "Sudan,Khartoum,15¡31'N,32¡35'E\n",
      "Suriname,Paramaribo,05¡50'N,55¡10'W\n",
      "Swaziland,Mbabane (Adm.),26¡18'S,31¡06'E\n",
      "Sweden,Stockholm,59¡20'N,18¡03'E\n",
      "Switzerland,Bern,46¡57'N,07¡28'E\n",
      "Syrian Arab Republic,Damascus,33¡30'N,36¡18'E\n",
      "Tajikistan,Dushanbe,38¡33'N,68¡48'E\n",
      "Thailand,Bangkok,13¡45'N,100¡35'E\n",
      "The Former Yugoslav Republic of Macedonia,Skopje,42¡01'N,21¡26'E\n",
      "Togo,Lome,06¡09'N,01¡20'E\n",
      "Tonga,Nuku'alofa,21¡10'S,174¡00'W\n",
      "Tunisia,Tunis,36¡50'N,10¡11'E\n",
      "Turkey,Ankara,39¡57'N,32¡54'E\n",
      "Turkmenistan,Ashgabat,38¡00'N,57¡50'E\n",
      "Tuvalu,Funafuti,08¡31'S,179¡13'E\n",
      "Uganda,Kampala,00¡20'N,32¡30'E\n",
      "Ukraine,Kiev (Rus),50¡30'N,30¡28'E\n",
      "United Arab Emirates,Abu Dhabi,24¡28'N,54¡22'E\n",
      "United Kingdom of Great Britain and Northern Ireland,London,51¡36'N,00¡05'W\n",
      "United Republic of Tanzania,Dodoma,06¡08'S,35¡45'E\n",
      "United States of America,Washington DC,39¡91'N,77¡02'W\n",
      "United States of Virgin Islands,Charlotte Amalie,18¡21'N,64¡56'W\n",
      "Uruguay,Montevideo,34¡50'S,56¡11'W\n",
      "Uzbekistan,Tashkent,41¡20'N,69¡10'E\n",
      "Vanuatu,Port-Vila,17¡45'S,168¡18'E\n",
      "Venezuela,Caracas,10¡30'N,66¡55'W\n",
      "Viet Nam,Hanoi,21¡05'N,105¡55'E\n",
      "Yugoslavia,Belgrade,44¡50'N,20¡37'E\n",
      "Zambia,Lusaka,15¡28'S,28¡16'E\n",
      "Zimbabwe,Harare,17¡43'S,31¡02'E\n"
     ]
    }
   ],
   "source": [
    "my_file = open(\"capitals.csv\", \"r\")\n",
    "text = my_file.read()\n",
    "my_file.close()\n",
    "\n",
    "print(text)"
   ]
  },
  {
   "cell_type": "markdown",
   "metadata": {},
   "source": [
    "## Using `pandas`\n",
    "\n",
    "More commonly, we will use a package that does a lot of the parsing for us. The `pandas` package has serious tools to help import and parse files, notably the `pandas.read_csv()` function. The [documentation](https://pandas.pydata.org/docs/reference/api/pandas.read_csv.html) shows the many arguments that can be used to customize the read_csv function. In this case let's use the defaults for most arguments.\n",
    "\n",
    "\n",
    "What additional processing would be necessary to parse this file? How many rows/columns are in the file?"
   ]
  },
  {
   "cell_type": "code",
   "execution_count": 10,
   "metadata": {},
   "outputs": [
    {
     "data": {
      "text/html": [
       "<div>\n",
       "<style scoped>\n",
       "    .dataframe tbody tr th:only-of-type {\n",
       "        vertical-align: middle;\n",
       "    }\n",
       "\n",
       "    .dataframe tbody tr th {\n",
       "        vertical-align: top;\n",
       "    }\n",
       "\n",
       "    .dataframe thead th {\n",
       "        text-align: right;\n",
       "    }\n",
       "</style>\n",
       "<table border=\"1\" class=\"dataframe\">\n",
       "  <thead>\n",
       "    <tr style=\"text-align: right;\">\n",
       "      <th></th>\n",
       "      <th>Country</th>\n",
       "      <th>Capital</th>\n",
       "      <th>Latitude</th>\n",
       "      <th>Longitude</th>\n",
       "    </tr>\n",
       "  </thead>\n",
       "  <tbody>\n",
       "    <tr>\n",
       "      <th>0</th>\n",
       "      <td>Afghanistan</td>\n",
       "      <td>Kabul</td>\n",
       "      <td>34¡28'N</td>\n",
       "      <td>69¡11'E</td>\n",
       "    </tr>\n",
       "    <tr>\n",
       "      <th>1</th>\n",
       "      <td>Albania</td>\n",
       "      <td>Tirane</td>\n",
       "      <td>41¡18'N</td>\n",
       "      <td>19¡49'E</td>\n",
       "    </tr>\n",
       "    <tr>\n",
       "      <th>2</th>\n",
       "      <td>Algeria</td>\n",
       "      <td>Algiers</td>\n",
       "      <td>36¡42'N</td>\n",
       "      <td>03¡08'E</td>\n",
       "    </tr>\n",
       "    <tr>\n",
       "      <th>3</th>\n",
       "      <td>American Samoa</td>\n",
       "      <td>Pago Pago</td>\n",
       "      <td>14¡16'S</td>\n",
       "      <td>170¡43'W</td>\n",
       "    </tr>\n",
       "    <tr>\n",
       "      <th>4</th>\n",
       "      <td>Andorra</td>\n",
       "      <td>Andorra la Vella</td>\n",
       "      <td>42¡31'N</td>\n",
       "      <td>01¡32'E</td>\n",
       "    </tr>\n",
       "    <tr>\n",
       "      <th>...</th>\n",
       "      <td>...</td>\n",
       "      <td>...</td>\n",
       "      <td>...</td>\n",
       "      <td>...</td>\n",
       "    </tr>\n",
       "    <tr>\n",
       "      <th>195</th>\n",
       "      <td>Venezuela</td>\n",
       "      <td>Caracas</td>\n",
       "      <td>10¡30'N</td>\n",
       "      <td>66¡55'W</td>\n",
       "    </tr>\n",
       "    <tr>\n",
       "      <th>196</th>\n",
       "      <td>Viet Nam</td>\n",
       "      <td>Hanoi</td>\n",
       "      <td>21¡05'N</td>\n",
       "      <td>105¡55'E</td>\n",
       "    </tr>\n",
       "    <tr>\n",
       "      <th>197</th>\n",
       "      <td>Yugoslavia</td>\n",
       "      <td>Belgrade</td>\n",
       "      <td>44¡50'N</td>\n",
       "      <td>20¡37'E</td>\n",
       "    </tr>\n",
       "    <tr>\n",
       "      <th>198</th>\n",
       "      <td>Zambia</td>\n",
       "      <td>Lusaka</td>\n",
       "      <td>15¡28'S</td>\n",
       "      <td>28¡16'E</td>\n",
       "    </tr>\n",
       "    <tr>\n",
       "      <th>199</th>\n",
       "      <td>Zimbabwe</td>\n",
       "      <td>Harare</td>\n",
       "      <td>17¡43'S</td>\n",
       "      <td>31¡02'E</td>\n",
       "    </tr>\n",
       "  </tbody>\n",
       "</table>\n",
       "<p>200 rows × 4 columns</p>\n",
       "</div>"
      ],
      "text/plain": [
       "            Country           Capital Latitude Longitude\n",
       "0       Afghanistan             Kabul  34¡28'N   69¡11'E\n",
       "1           Albania            Tirane  41¡18'N   19¡49'E\n",
       "2           Algeria           Algiers  36¡42'N   03¡08'E\n",
       "3    American Samoa         Pago Pago  14¡16'S  170¡43'W\n",
       "4           Andorra  Andorra la Vella  42¡31'N   01¡32'E\n",
       "..              ...               ...      ...       ...\n",
       "195       Venezuela           Caracas  10¡30'N   66¡55'W\n",
       "196        Viet Nam             Hanoi  21¡05'N  105¡55'E\n",
       "197      Yugoslavia          Belgrade  44¡50'N   20¡37'E\n",
       "198          Zambia            Lusaka  15¡28'S   28¡16'E\n",
       "199        Zimbabwe            Harare  17¡43'S   31¡02'E\n",
       "\n",
       "[200 rows x 4 columns]"
      ]
     },
     "execution_count": 10,
     "metadata": {},
     "output_type": "execute_result"
    }
   ],
   "source": [
    "import pandas as pd\n",
    "pd.read_csv(\"capitals.csv\")"
   ]
  },
  {
   "cell_type": "markdown",
   "metadata": {},
   "source": [
    "# Filepaths\n",
    "\n",
    "There are two kinds of filepaths:\n",
    "* **absolute**: The filepath from the top level directory\n",
    "    * For Macs, this usually looks like '/Users/[usrname]/directory/subdirectory/subsubdirectory/file'\n",
    "    * For Windows, this usually looks like: \n",
    "* **relative**: The filepath relative to the current working directory (i.e. notebook location). Common locations are: \n",
    "    * File in same folder: './file' or 'file' (`.` means 'here')\n",
    "    * Subfolder: 'subfolder/file'\n",
    "    * Higher folder: '../sisterfolder/file' (`..` means 'go up one level in the directory')\n",
    "\n",
    "Both kinds of paths work for file names, but they will look different in the code. \n",
    "\n",
    "\n",
    "The above example uses a relative filepath, since the file is in the same directory. Where was the file in relationship to the current working directory? \n",
    "\n",
    "What would the direct filepath be for your machine? \n",
    "\n"
   ]
  },
  {
   "cell_type": "code",
   "execution_count": 20,
   "metadata": {},
   "outputs": [],
   "source": [
    "## your code here"
   ]
  },
  {
   "cell_type": "markdown",
   "metadata": {},
   "source": [
    "## Challenge 1: Subfolder access\n",
    "\n",
    "There is a `capitals2.csv` file in the data subfolder of this folder. This is a common structure for projects, because it is easy to locate with a relative path, and contains only the files that will be analyzed.\n",
    "\n",
    "Each of the ways below are incorrect, and give an error. What is the error? How would you properly access the file?"
   ]
  },
  {
   "cell_type": "code",
   "execution_count": 22,
   "metadata": {},
   "outputs": [],
   "source": [
    "pd.read_csv('capitals2.csv')"
   ]
  },
  {
   "cell_type": "code",
   "execution_count": null,
   "metadata": {},
   "outputs": [],
   "source": [
    "pd.read_csv('../capitals2.csv')"
   ]
  },
  {
   "cell_type": "code",
   "execution_count": null,
   "metadata": {},
   "outputs": [],
   "source": [
    "pd.read_csv('/data/capitals2.csv')"
   ]
  },
  {
   "cell_type": "markdown",
   "metadata": {},
   "source": [
    "# Iterating through a directory\n",
    "\n",
    "The data subfolder actually has two files in it. Let's say that we want to loop through each of the files in the directory. \n",
    "\n",
    "``` \n",
    "for file in directory:\n",
    "        do something\n",
    "```\n",
    "\n",
    "One way is to make a list of relative paths, loop through the paths, and perform the operation. That would look like: "
   ]
  },
  {
   "cell_type": "code",
   "execution_count": 26,
   "metadata": {},
   "outputs": [
    {
     "name": "stdout",
     "output_type": "stream",
     "text": [
      "processing filename: data/capitals.csv\n",
      "          Country           Capital Latitude Longitude\n",
      "0     Afghanistan             Kabul  34¡28'N   69¡11'E\n",
      "1         Albania            Tirane  41¡18'N   19¡49'E\n",
      "2         Algeria           Algiers  36¡42'N   03¡08'E\n",
      "3  American Samoa         Pago Pago  14¡16'S  170¡43'W\n",
      "4         Andorra  Andorra la Vella  42¡31'N   01¡32'E\n",
      "processing filename: data/capitals2.csv\n",
      "            Capital         Country Latitude Longitude\n",
      "0             Kabul     Afghanistan  34¡28'N   69¡11'E\n",
      "1            Tirane         Albania  41¡18'N   19¡49'E\n",
      "2           Algiers         Algeria  36¡42'N   03¡08'E\n",
      "3         Pago Pago  American Samoa  14¡16'S  170¡43'W\n",
      "4  Andorra la Vella         Andorra  42¡31'N   01¡32'E\n"
     ]
    }
   ],
   "source": [
    "files = ['data/capitals.csv','data/capitals2.csv']\n",
    "for f in files:\n",
    "    print(\"processing filename:\",f)\n",
    "    print(pd.read_csv(f).head())"
   ]
  },
  {
   "cell_type": "markdown",
   "metadata": {},
   "source": [
    "This method works for a few items, but what if we were processing dozens or hundreds of files, this would get quickly tedious. We can use the `os` package to automatically list the files in the directory."
   ]
  },
  {
   "cell_type": "code",
   "execution_count": null,
   "metadata": {},
   "outputs": [],
   "source": [
    "import os\n",
    "\n",
    "filelist = os.listdir('.')\n",
    "filelist"
   ]
  },
  {
   "cell_type": "markdown",
   "metadata": {},
   "source": [
    "Another useful function from os is `os.path.join()`, which joins together a directory and a file. "
   ]
  },
  {
   "cell_type": "code",
   "execution_count": 39,
   "metadata": {},
   "outputs": [
    {
     "name": "stdout",
     "output_type": "stream",
     "text": [
      "dir: .\n",
      "file: 10_numpy.ipynb\n",
      "joined: ./10_numpy.ipynb\n"
     ]
    }
   ],
   "source": [
    "print('dir:','.')\n",
    "print('file:',filelist[0])\n",
    "print('joined:',os.path.join('.',filelist[0]))"
   ]
  },
  {
   "cell_type": "markdown",
   "metadata": {},
   "source": [
    "## Challenge 2: Reading in multiple files\n",
    "\n",
    "Use `os.listdir` to identify each file in the `data` subfolder. Read each csv file in the list using `pd.read_csv()` and append it to the variable `dflist`. \n",
    "\n",
    "\n",
    "**Hint**: Are there any non-csv files in the folder? What happens when you try to read them in with `read_csv()`? How can we account for them?\n",
    "\n",
    "**Bonus**: Wrap this code in a function called `read_files()` that takes as input a directory and returns a list of DataFrames."
   ]
  },
  {
   "cell_type": "code",
   "execution_count": 47,
   "metadata": {},
   "outputs": [
    {
     "name": "stdout",
     "output_type": "stream",
     "text": [
      "capitals2.csv\n",
      "capitals.csv\n",
      ".ipynb_checkpoints\n"
     ]
    }
   ],
   "source": [
    "#student code\n",
    "\n",
    "dflist=[]\n",
    "\n",
    "\n",
    "##solution\n",
    "def read_files(directory):\n",
    "    dflist=[]\n",
    "    for f in os.listdir('data'):\n",
    "        print(f)\n",
    "        if f.split('.')[1]=='csv':\n",
    "            dflist.append(pd.read_csv(os.path.join('data',f)))\n",
    "    return(dflist)\n",
    "dfs = read_files('data')"
   ]
  },
  {
   "cell_type": "markdown",
   "metadata": {},
   "source": [
    "## Combining files\n",
    "\n",
    "We can combine the DataFrame in each folder by using `pd.concat`, which takes a list of dataframes and stacks them. "
   ]
  },
  {
   "cell_type": "code",
   "execution_count": 1,
   "metadata": {},
   "outputs": [
    {
     "ename": "NameError",
     "evalue": "name 'pd' is not defined",
     "output_type": "error",
     "traceback": [
      "\u001b[0;31m---------------------------------------------------------------------------\u001b[0m",
      "\u001b[0;31mNameError\u001b[0m                                 Traceback (most recent call last)",
      "\u001b[0;32m<ipython-input-1-3e0836db5a26>\u001b[0m in \u001b[0;36m<module>\u001b[0;34m\u001b[0m\n\u001b[0;32m----> 1\u001b[0;31m \u001b[0mresult\u001b[0m \u001b[0;34m=\u001b[0m \u001b[0mpd\u001b[0m\u001b[0;34m.\u001b[0m\u001b[0mconcat\u001b[0m\u001b[0;34m(\u001b[0m\u001b[0mdfs\u001b[0m\u001b[0;34m)\u001b[0m\u001b[0;34m\u001b[0m\u001b[0;34m\u001b[0m\u001b[0m\n\u001b[0m",
      "\u001b[0;31mNameError\u001b[0m: name 'pd' is not defined"
     ]
    }
   ],
   "source": [
    "result = pd.concat(dfs)"
   ]
  },
  {
   "cell_type": "markdown",
   "metadata": {},
   "source": [
    "## Exporting files\n",
    "\n",
    "A DataFrame can be exported to a csv (or other filetype) by using `df.to_csv()`"
   ]
  },
  {
   "cell_type": "code",
   "execution_count": null,
   "metadata": {},
   "outputs": [],
   "source": [
    "result.to_csv('result.csv')"
   ]
  },
  {
   "cell_type": "markdown",
   "metadata": {},
   "source": [
    "Congratulations! We now have covered loading in single and multiple files, and common strategies for getting data into our Python environment for processing. Now it is possible to use this data for analysis in the future."
   ]
  }
 ],
 "metadata": {
  "kernelspec": {
   "display_name": "Python 3",
   "language": "python",
   "name": "python3"
  },
  "language_info": {
   "codemirror_mode": {
    "name": "ipython",
    "version": 3
   },
   "file_extension": ".py",
   "mimetype": "text/x-python",
   "name": "python",
   "nbconvert_exporter": "python",
   "pygments_lexer": "ipython3",
   "version": "3.7.6"
  }
 },
 "nbformat": 4,
 "nbformat_minor": 4
}
