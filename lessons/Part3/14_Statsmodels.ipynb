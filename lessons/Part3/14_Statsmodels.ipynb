{
 "cells": [
  {
   "cell_type": "markdown",
   "metadata": {},
   "source": [
    "# Statsmodels\n",
    "**Learning Objectives**:\n",
    "- Introduce the statsmodels package for statistical analysis\n",
    "- Calculate a linear regression\n",
    "- Perform a simple t-test\n",
    "\n",
    "\n",
    "## Introduction to Statsmodels\n",
    "\n",
    "Statsmodels is a package that's useful for statistical analysis in Python. This allows for a lot of statistical models to be developed directly in Python without needing to go to other languages or software. In this section we will introduce two basic statistical methods available through statsmodels. \n"
   ]
  },
  {
   "cell_type": "code",
   "execution_count": 41,
   "metadata": {},
   "outputs": [],
   "source": [
    "import statsmodels.api as sm\n",
    "import pandas as pd\n",
    "import numpy as np"
   ]
  },
  {
   "cell_type": "code",
   "execution_count": 42,
   "metadata": {},
   "outputs": [],
   "source": [
    "#load in data and drop null values\n",
    "df = pd.read_csv('penguins_size.csv').dropna()\n"
   ]
  },
  {
   "cell_type": "markdown",
   "metadata": {},
   "source": [
    "## T-test\n",
    "\n",
    "The model is set up using `sm.OLS(y,X)` which tells which data to use in the model. `.fit()` generates the fitted model, which is then saved as another variable. The fitted model has a method `.summary()` that gives a good summary of each coefficient and overall statistical properties of the model."
   ]
  },
  {
   "cell_type": "code",
   "execution_count": 43,
   "metadata": {},
   "outputs": [
    {
     "name": "stdout",
     "output_type": "stream",
     "text": [
      "t-value: -5.797900789295094\n",
      "p-value: 2.413241410912911e-08\n",
      "DoF: 212.0\n"
     ]
    }
   ],
   "source": [
    "adelie = df.loc[df['species']=='Adelie','flipper_length_mm']\n",
    "chinstrap = df.loc[df['species']=='Chinstrap','flipper_length_mm']\n",
    "\n",
    "\n",
    "\n",
    "res = sm.stats.ttest_ind(adelie,chinstrap)\n",
    "print('t-value:',res[0])\n",
    "print('p-value:',res[1])\n",
    "print('DoF:',res[2])"
   ]
  },
  {
   "cell_type": "markdown",
   "metadata": {},
   "source": [
    "These and other statistical tests can be found in the [documentation](https://www.statsmodels.org/dev/api.html). "
   ]
  },
  {
   "cell_type": "markdown",
   "metadata": {},
   "source": [
    "## Linear Regression\n",
    "\n",
    "Regression is another useful part of the statsmodels package. We will work through an example with OLS (Ordinary Least Squares) regression, using `sm.OLS()`. For the penguins data, let's predict body mass as a function of culmen length/depth and flipper length. \n",
    "\n",
    "This regression function takes two inputs: \n",
    "- An array y with the output variable (single column)\n",
    "- An array X with the input variables (one or more columns)\n",
    "\n",
    "All variables must be numeric (so that they can be converted to a numpy array within the function). The arrays must also be the same size. \n"
   ]
  },
  {
   "cell_type": "code",
   "execution_count": 44,
   "metadata": {},
   "outputs": [],
   "source": [
    "# Set up X and y\n",
    "y = df['body_mass_g']\n",
    "X = df.loc[:,['culmen_length_mm','culmen_depth_mm','flipper_length_mm']]\n",
    "\n"
   ]
  },
  {
   "cell_type": "markdown",
   "metadata": {},
   "source": [
    "The model is set up using `sm.OLS(y,X)` which tells which data to use in the model. `.fit()` generates the fitted model, which is then saved as another variable. The fitted model has a method `.summary()` that gives a good summary of each coefficient and overall statistical properties of the model."
   ]
  },
  {
   "cell_type": "code",
   "execution_count": 45,
   "metadata": {},
   "outputs": [],
   "source": [
    "\n",
    "\n",
    "results=sm.OLS(y,X).fit()\n",
    "print(results.summary())"
   ]
  },
  {
   "cell_type": "markdown",
   "metadata": {},
   "source": [
    "## Challenge 1: further statsmodels\n",
    "\n",
    "Let's practice with some more statsmodels functions.\n",
    "\n",
    "Choose one of the following options (or both!): \n",
    "\n",
    "1. In the penguins dataset, conduct pairwise t-tests for body mass between all three species. (Essentially, this means a t-test for Adelie vs Chinstrap, Adelie vs Gentoo, and Chinstrap vs Gentoo). Did you use a loop for this? Why or why not?\n",
    "\n",
    "2. Set up a new linear regression. In this case, normalize each of the columns by subtracting the mean of the column and dividing by the standard deviation. Check your normalization (The mean should be 0 and the std deviation 1 for each of the columns), and re-run the linear regression. What does the model say now?\n",
    "\n",
    "\n",
    "Make notes of what barriers you run into, and remember the general steps of coding!"
   ]
  },
  {
   "cell_type": "code",
   "execution_count": 46,
   "metadata": {},
   "outputs": [],
   "source": [
    "## your model here"
   ]
  },
  {
   "cell_type": "code",
   "execution_count": null,
   "metadata": {},
   "outputs": [],
   "source": []
  }
 ],
 "metadata": {
  "kernelspec": {
   "display_name": "Python 3",
   "language": "python",
   "name": "python3"
  },
  "language_info": {
   "codemirror_mode": {
    "name": "ipython",
    "version": 3
   },
   "file_extension": ".py",
   "mimetype": "text/x-python",
   "name": "python",
   "nbconvert_exporter": "python",
   "pygments_lexer": "ipython3",
   "version": "3.7.6"
  }
 },
 "nbformat": 4,
 "nbformat_minor": 4
}
