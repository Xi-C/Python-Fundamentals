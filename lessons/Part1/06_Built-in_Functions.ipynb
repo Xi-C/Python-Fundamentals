{
 "cells": [
  {
   "cell_type": "markdown",
   "metadata": {},
   "source": [
    "# Built-in Functions and Help\n",
    "\n",
    "**Time**:\n",
    "- Teaching: 10 min\n",
    "- Exercises: 20 min\n",
    "\n",
    "**Questions**\n",
    "- How can I use built-in functions?\n",
    "- How can I find out what they do?\n",
    "\n",
    "**Learning Objectives**\n",
    "- Explain the purpose of functions.\n",
    "- Correctly call built-in Python functions.\n",
    "- Correctly nest calls to built-in functions.\n",
    "- Use help to display [documentation](https://github.com/dlab-berkeley/python-intensive/blob/master/Glossary.md#documentation) for built-in functions.\n",
    "\n",
    "*****"
   ]
  },
  {
   "cell_type": "markdown",
   "metadata": {},
   "source": [
    "## A function may take zero or more arguments\n",
    "\n",
    "*   We have seen some functions already - now let's take a closer look.\n",
    "*   An *argument* is a value passed into a function.\n",
    "*   `len` takes exactly one.\n",
    "*   `int`, `str`, and `float` create a new value from an existing one.\n",
    "*   `print` takes zero or more.\n",
    "*   `print` with no arguments prints a blank line.\n",
    "*   Functions must always be called with parentheses, even if there are no arguments."
   ]
  },
  {
   "cell_type": "code",
   "execution_count": 1,
   "metadata": {},
   "outputs": [
    {
     "name": "stdout",
     "output_type": "stream",
     "text": [
      "before\n",
      "\n",
      "after\n"
     ]
    }
   ],
   "source": [
    "print('before')\n",
    "print()\n",
    "print('after')"
   ]
  },
  {
   "cell_type": "markdown",
   "metadata": {},
   "source": [
    "## Commonly-used built-in functions include `max`, `min`, and `round`\n",
    "\n",
    "*   Built-in functions are those that already exist in Python (in contrast to custom functions that a user can create).\n",
    "*   Some common built-in functions include `max`, `min`, and `round`.\n",
    "*   Use `max` to find the largest value of one or more values.\n",
    "*   Use `min` to find the smallest.\n",
    "*   Both work on character strings as well as numbers.\n",
    "*   \"Larger\" and \"smaller\" use (0-9, A-Z, a-z) to compare letters."
   ]
  },
  {
   "cell_type": "code",
   "execution_count": 2,
   "metadata": {},
   "outputs": [
    {
     "name": "stdout",
     "output_type": "stream",
     "text": [
      "3\n",
      "0\n"
     ]
    }
   ],
   "source": [
    "print(max(1, 2, 3))\n",
    "print(min('a', 'A', '0'))"
   ]
  },
  {
   "cell_type": "markdown",
   "metadata": {},
   "source": [
    "## Functions may operate on certain combinations of arguments\n",
    "\n",
    "*   `max` and `min` must be given at least one argument.\n",
    "*   For example, \"Largest of the empty set\" is a meaningless question.\n",
    "*   Furthermore, `max` requires types that are comparable (i.e., strings and ints can't be compared to each other)."
   ]
  },
  {
   "cell_type": "code",
   "execution_count": 3,
   "metadata": {},
   "outputs": [
    {
     "ename": "TypeError",
     "evalue": "max expected at least 1 argument, got 0",
     "output_type": "error",
     "traceback": [
      "\u001b[0;31m---------------------------------------------------------------------------\u001b[0m",
      "\u001b[0;31mTypeError\u001b[0m                                 Traceback (most recent call last)",
      "\u001b[0;32m/var/folders/6h/ms_dpkl536d1w6qqd_wnckrw0000gn/T/ipykernel_40851/3540540054.py\u001b[0m in \u001b[0;36m<module>\u001b[0;34m\u001b[0m\n\u001b[0;32m----> 1\u001b[0;31m \u001b[0mprint\u001b[0m\u001b[0;34m(\u001b[0m\u001b[0mmax\u001b[0m\u001b[0;34m(\u001b[0m\u001b[0;34m)\u001b[0m\u001b[0;34m)\u001b[0m\u001b[0;34m\u001b[0m\u001b[0;34m\u001b[0m\u001b[0m\n\u001b[0m",
      "\u001b[0;31mTypeError\u001b[0m: max expected at least 1 argument, got 0"
     ]
    }
   ],
   "source": [
    "print(max())"
   ]
  },
  {
   "cell_type": "code",
   "execution_count": 4,
   "metadata": {},
   "outputs": [
    {
     "ename": "TypeError",
     "evalue": "'>' not supported between instances of 'str' and 'int'",
     "output_type": "error",
     "traceback": [
      "\u001b[0;31m---------------------------------------------------------------------------\u001b[0m",
      "\u001b[0;31mTypeError\u001b[0m                                 Traceback (most recent call last)",
      "\u001b[0;32m/var/folders/6h/ms_dpkl536d1w6qqd_wnckrw0000gn/T/ipykernel_40851/2220240766.py\u001b[0m in \u001b[0;36m<module>\u001b[0;34m\u001b[0m\n\u001b[0;32m----> 1\u001b[0;31m \u001b[0mprint\u001b[0m\u001b[0;34m(\u001b[0m\u001b[0mmax\u001b[0m\u001b[0;34m(\u001b[0m\u001b[0;36m1\u001b[0m\u001b[0;34m,\u001b[0m \u001b[0;34m'a'\u001b[0m\u001b[0;34m)\u001b[0m\u001b[0;34m)\u001b[0m\u001b[0;34m\u001b[0m\u001b[0;34m\u001b[0m\u001b[0m\n\u001b[0m",
      "\u001b[0;31mTypeError\u001b[0m: '>' not supported between instances of 'str' and 'int'"
     ]
    }
   ],
   "source": [
    "print(max(1, 'a'))"
   ]
  },
  {
   "cell_type": "markdown",
   "metadata": {},
   "source": [
    "## Functions may have default values for some arguments\n",
    "\n",
    "*   `round` will round off a floating-point number. It accepts two arguments: the number, and the number of decimal places to round off to.\n",
    "*   By default, it rounds to zero decimal places."
   ]
  },
  {
   "cell_type": "code",
   "execution_count": null,
   "metadata": {},
   "outputs": [],
   "source": [
    "round(3.712)"
   ]
  },
  {
   "cell_type": "markdown",
   "metadata": {},
   "source": [
    "*   We can specify the number of decimal places we want.\n"
   ]
  },
  {
   "cell_type": "code",
   "execution_count": 5,
   "metadata": {},
   "outputs": [
    {
     "data": {
      "text/plain": [
       "3.7"
      ]
     },
     "execution_count": 5,
     "metadata": {},
     "output_type": "execute_result"
    }
   ],
   "source": [
    "round(3.712, 1)"
   ]
  },
  {
   "cell_type": "markdown",
   "metadata": {},
   "source": [
    "## Use the built-in function `help` to get help for a function.\n",
    "\n",
    "*   Every built-in function has online documentation."
   ]
  },
  {
   "cell_type": "code",
   "execution_count": 6,
   "metadata": {},
   "outputs": [
    {
     "name": "stdout",
     "output_type": "stream",
     "text": [
      "Help on built-in function round in module builtins:\n",
      "\n",
      "round(number, ndigits=None)\n",
      "    Round a number to a given precision in decimal digits.\n",
      "    \n",
      "    The return value is an integer if ndigits is omitted or None.  Otherwise\n",
      "    the return value has the same type as the number.  ndigits may be negative.\n",
      "\n"
     ]
    }
   ],
   "source": [
    "help(round)"
   ]
  },
  {
   "cell_type": "markdown",
   "metadata": {},
   "source": [
    "## The Jupyter Notebook has two ways to get help\n",
    "\n",
    "*   Place the cursor inside the parenthesis of the function,\n",
    "    hold down `Shift`,\n",
    "    and press `Tab`.\n",
    "*   Or type a function name with a question mark after it.\n",
    "\n",
    "## Every function returns a value\n",
    "\n",
    "*   Every [function call](https://github.com/dlab-berkeley/python-intensive/blob/master/Glossary.md#function-call) produces some result.\n",
    "*   If the function doesn't have a useful result to return,\n",
    "    it usually returns the special value `None`."
   ]
  },
  {
   "cell_type": "code",
   "execution_count": 7,
   "metadata": {},
   "outputs": [
    {
     "name": "stdout",
     "output_type": "stream",
     "text": [
      "example\n",
      "result of print is None\n"
     ]
    }
   ],
   "source": [
    "result = print('example')\n",
    "print('result of print is', result)"
   ]
  },
  {
   "cell_type": "markdown",
   "metadata": {},
   "source": [
    "## Functions, objects, and methods\n",
    "  \n",
    "A **function** is a block of code that can be reused. It can be passed data to operate on (ie. the arguments) and can optionally return data (the return value).\n",
    "\n",
    "An **object** is a collection of conceptually related variables and functions using those variables. Every [object](https://github.com/dlab-berkeley/python-intensive/blob/master/Glossary.md#object) is an instance of a `class`, which is like a blueprint for an object. \n",
    "\n",
    "A **method** is a function which is tied to a particular object. Each of an object's methods typically implements one of the things it can do, or one of the questions it can answer. It is called using the dot notation: e.g. `object.method()`.\n",
    "\n",
    "- In Python, everything is an object.\n",
    "- In Python, everything that happens is a function call.\n",
    "  \n",
    "Read more about objects, classes and methods [here](https://docs.python.org/3/tutorial/classes.html).\n",
    "\n",
    "Check out our Python glossary [here](https://github.com/dlab-berkeley/python-intensive/blob/master/Glossary.md)."
   ]
  },
  {
   "cell_type": "markdown",
   "metadata": {},
   "source": [
    "## Challenge 1: What Happens When\n",
    "\n",
    "1. Explain in simple terms the order of operations in the following program:\n",
    "    when does the addition happen, when does the subtraction happen,\n",
    "    when is each function called, etc.\n",
    "2. What is the final value of `radiance`?"
   ]
  },
  {
   "cell_type": "code",
   "execution_count": null,
   "metadata": {
    "collapsed": true,
    "jupyter": {
     "outputs_hidden": true
    }
   },
   "outputs": [],
   "source": [
    "radiance = 1.0\n",
    "radiance = max(2.1, 2.0 + min(radiance, 1.1 * radiance - 0.5))"
   ]
  },
  {
   "cell_type": "code",
   "execution_count": null,
   "metadata": {
    "collapsed": true,
    "jupyter": {
     "outputs_hidden": true
    }
   },
   "outputs": [],
   "source": []
  },
  {
   "cell_type": "markdown",
   "metadata": {},
   "source": [
    "## Challenge 2: Spot the Difference\n",
    "\n",
    "1. Predict what each of the `print` statements in the program below will print.\n",
    "2. Does `max(len(rich), poor)` run or produce an error message?\n",
    "   If it runs, does its result make any sense?"
   ]
  },
  {
   "cell_type": "code",
   "execution_count": null,
   "metadata": {},
   "outputs": [],
   "source": [
    "rich = \"gold\"\n",
    "poor = \"tin\"\n",
    "print(max(rich, poor))\n",
    "print(max(len(rich), len(poor)))"
   ]
  },
  {
   "cell_type": "markdown",
   "metadata": {},
   "source": [
    "## Challenge 3: Why Not?\n",
    "\n",
    "Why don't `max` and `min` return `None` when they are given no arguments?"
   ]
  },
  {
   "cell_type": "markdown",
   "metadata": {},
   "source": [
    "## Challenge 4: Counting Text"
   ]
  },
  {
   "cell_type": "markdown",
   "metadata": {},
   "source": [
    "Below is a string of Robert Frost's \"The Road Not Taken\":"
   ]
  },
  {
   "cell_type": "code",
   "execution_count": null,
   "metadata": {
    "collapsed": true,
    "jupyter": {
     "outputs_hidden": true
    }
   },
   "outputs": [],
   "source": [
    "poem = '''Two roads diverged in a yellow wood,\n",
    "And sorry I could not travel both\n",
    "And be one traveler, long I stood\n",
    "And looked down one as far as I could\n",
    "To where it bent in the undergrowth;\n",
    "\n",
    "Then took the other, as just as fair,\n",
    "And having perhaps the better claim,\n",
    "Because it was grassy and wanted wear;\n",
    "Though as for that the passing there\n",
    "Had worn them really about the same,\n",
    "\n",
    "And both that morning equally lay\n",
    "In leaves no step had trodden black.\n",
    "Oh, I kept the first for another day!\n",
    "Yet knowing how way leads on to way,\n",
    "I doubted if I should ever come back.\n",
    "\n",
    "I shall be telling this with a sigh\n",
    "Somewhere ages and ages hence:\n",
    "Two roads diverged in a wood, and I—\n",
    "I took the one less traveled by,\n",
    "And that has made all the difference.'''"
   ]
  },
  {
   "cell_type": "markdown",
   "metadata": {},
   "source": [
    "Using the `len` function and the string methods, answer the following questions:\n",
    "\n",
    "How many characters (letters) are in the poem?"
   ]
  },
  {
   "cell_type": "code",
   "execution_count": null,
   "metadata": {},
   "outputs": [],
   "source": [
    "no_white"
   ]
  },
  {
   "cell_type": "markdown",
   "metadata": {},
   "source": [
    "How many words?"
   ]
  },
  {
   "cell_type": "code",
   "execution_count": null,
   "metadata": {},
   "outputs": [],
   "source": []
  },
  {
   "cell_type": "markdown",
   "metadata": {},
   "source": [
    "How many lines? (HINT: A line break is represented as  `\\n`  )"
   ]
  },
  {
   "cell_type": "code",
   "execution_count": null,
   "metadata": {},
   "outputs": [],
   "source": []
  },
  {
   "cell_type": "markdown",
   "metadata": {},
   "source": [
    "How many stanzas?"
   ]
  },
  {
   "cell_type": "code",
   "execution_count": null,
   "metadata": {},
   "outputs": [],
   "source": []
  },
  {
   "cell_type": "markdown",
   "metadata": {},
   "source": [
    "How many unique words? (HINT: look up what `set` does)"
   ]
  },
  {
   "cell_type": "code",
   "execution_count": null,
   "metadata": {},
   "outputs": [],
   "source": []
  },
  {
   "cell_type": "markdown",
   "metadata": {},
   "source": [
    "Remove commas and check the number of unique words again. Why is it different?"
   ]
  },
  {
   "cell_type": "code",
   "execution_count": null,
   "metadata": {},
   "outputs": [],
   "source": []
  },
  {
   "cell_type": "markdown",
   "metadata": {},
   "source": [
    "*****\n",
    "# Key Points\n",
    "\n",
    "- A function may take zero or more arguments.\"\n",
    "- Commonly-used built-in functions include `max`, `min`, and `round`.\"\n",
    "- Functions may only work for certain (combinations of) arguments.\"\n",
    "- Functions may have default values for some arguments.\"\n",
    "- Use the built-in function `help` to get help for a function.\"\n",
    "- The Jupyter Notebook has two ways to get help.\"\n",
    "- \"Every function returns something.\""
   ]
  }
 ],
 "metadata": {
  "kernelspec": {
   "display_name": "Python 3 (ipykernel)",
   "language": "python",
   "name": "python3"
  },
  "language_info": {
   "codemirror_mode": {
    "name": "ipython",
    "version": 3
   },
   "file_extension": ".py",
   "mimetype": "text/x-python",
   "name": "python",
   "nbconvert_exporter": "python",
   "pygments_lexer": "ipython3",
   "version": "3.9.7"
  }
 },
 "nbformat": 4,
 "nbformat_minor": 4
}
