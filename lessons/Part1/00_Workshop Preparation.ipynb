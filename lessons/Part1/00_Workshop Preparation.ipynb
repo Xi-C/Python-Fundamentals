{
 "cells": [
  {
   "cell_type": "markdown",
   "metadata": {},
   "source": [
    "Before the workshop, complete the following steps to make sure that you are ready to start with the material on Day 1!\n",
    "\n",
    "# How do I run Python on my machine?\n",
    "\n",
    "There are a few options for running Python: \n",
    "\n",
    "1). **Jupyter Notebook:** This is what all of our workshop materials are in. Files have the extention .ipynb and are organized into executable cells. This is used for tasks like data processing and analysis, and is likely the most common format you'll encounter in Python programming. Jupyter notebooks comes with Anaconda Navigator.\n",
    "\n",
    "2). **Google Colab:** Similar in layout to a Jupyter notebooks. The key difference is that Colab is hosted on Google servers rather than being run locally on your machine. This has more support for parallel processing, and doesn't require a Python distribution on your machine. Uses .ipynb format.\n",
    "\n",
    "3). **Spyder (or other [IDE](https://en.wikipedia.org/wiki/Comparison_of_integrated_development_environments#Python)):** An IDE (integrated development environment) is a software application that gives a bunch of tools for debugging and development. Files are in the format .py. These environments are usually used for software development or large programs. Spyder comes installed with the Anaconda distribution.\n",
    "\n",
    "4). **Terminal/ Command line:** It is also possible to run .py scripts directly in your terminal or command line (and even write the script in a text editor). This is not used for active development because it lacks the edtor and tools of the above methods.\n",
    "\n",
    "\n",
    "For this workshop, we will use the Anaconda distribution of Python and the included Jupyter Notebook application. Before the first workshop, follow the following steps to get the workshop materials ready:\n",
    "\n",
    "\n",
    "\n",
    "# Install Anaconda\n",
    "\n",
    "Some machines have Python pre-installed. However, we encourage students to download the Anaconda distribution of Python, which includes all of the software and packages that we will use throughout this workshop. \n",
    "\n",
    "   1. Download and install Python [Anaconda](https://www.anaconda.com/products/individual) \n",
    "   2. Click \"Download\" and then click 64-bit \"Graphical Installer\" for your current operating system.\n",
    "   3. Open the downloaded file and install the program\n",
    "   4. \"Anaconda Navigator\" will now be an application on your computer.\n",
    "   2. Download the Python-Fundamentals workshop materials. To run these lessons on your laptop:\n",
    "\n",
    "# Download Workshop Materials\n",
    "\n",
    "   In the Github for this workshop [**https://github.com/dlab-berkeley/python-fundamentals**](https://github.com/dlab-berkeley/python-fundamentals): \n",
    "   \n",
    "   1. Click the green \"Clone or Download\" button\n",
    "   2. Click \"Download Zip\"\n",
    "   3. Extract this file someplace familiar (we recommend Desktop)\n",
    "\n",
    "\n",
    "\n",
    "# Open Jupyter Notebook\n",
    "\n",
    "1. Open the Anaconda Navigator program on your computer.\n",
    "2. Open Jupyter Notebook from there.\n",
    "3. Navigate to the `python-fundamentals-master` folder. Depending on what your home directory is, this most likely mean clicking the \"Desktop\" folder, at which point `python-fundamentals-master` should be visible.\n",
    "4. Click on `python-fundamentals-master`.\n",
    "5. Click on `Day_1`.\n",
    "\n",
    "This will start a Jupyter Notebook server and open your default web browser.\n",
    "\n",
    "Let's get programming!\n"
   ]
  }
 ],
 "metadata": {
  "kernelspec": {
   "display_name": "Python 3",
   "language": "python",
   "name": "python3"
  },
  "language_info": {
   "codemirror_mode": {
    "name": "ipython",
    "version": 3
   },
   "file_extension": ".py",
   "mimetype": "text/x-python",
   "name": "python",
   "nbconvert_exporter": "python",
   "pygments_lexer": "ipython3",
   "version": "3.7.6"
  }
 },
 "nbformat": 4,
 "nbformat_minor": 4
}
