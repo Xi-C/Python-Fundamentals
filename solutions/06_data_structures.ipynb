{
 "cells": [
  {
   "cell_type": "markdown",
   "metadata": {},
   "source": [
    "## Challenge 1: Slicing Lists\n",
    "Using the lists in the next cell:\n",
    "\n",
    "1. What does `thing[start:stop]` do? What is the output?\n",
    "2. Write three different ways to slice the string from 'elephant' to the end."
   ]
  },
  {
   "cell_type": "code",
   "execution_count": 1,
   "metadata": {},
   "outputs": [],
   "source": [
    "thing = [1, 3, 8, 'elephant', 'banana', 2]\n",
    "start = 2\n",
    "stop = 5"
   ]
  },
  {
   "cell_type": "code",
   "execution_count": 2,
   "metadata": {},
   "outputs": [
    {
     "data": {
      "text/plain": [
       "[8, 'elephant', 'banana']"
      ]
     },
     "execution_count": 2,
     "metadata": {},
     "output_type": "execute_result"
    }
   ],
   "source": [
    "#1. \n",
    "thing[2:5] "
   ]
  },
  {
   "cell_type": "code",
   "execution_count": 10,
   "metadata": {},
   "outputs": [
    {
     "name": "stdout",
     "output_type": "stream",
     "text": [
      "['elephant', 'banana', 2]\n",
      "['elephant', 'banana', 2]\n",
      "['elephant', 'banana', 2]\n"
     ]
    }
   ],
   "source": [
    "#2. \n",
    "print(thing[-3:])\n",
    "print(thing[3:])\n",
    "print(thing[3:6])"
   ]
  },
  {
   "cell_type": "markdown",
   "metadata": {},
   "source": [
    "## Challenge 2: Appending to Lists\n",
    "\n",
    "We've created a list called `thing` in the cell below.\n",
    "\n",
    "1. Append the following values to the list, individually: `'apple'`, `8`, and `9`. Print the ensuing list out.\n",
    "2. Make a new list called `thing2` consisting of the values `'apple'`, `8`, and `9`. Append `thing2` to `thing`. How does the output differ from the output from the previous part?\n",
    "3. Look at the [documentation](https://docs.python.org/3/tutorial/datastructures.html#more-on-lists) for the list method `.extend()`. Is there a way to rewrite your answer to (2) to use extend? How does that compare to the outputs of the previous two parts?\n",
    "4. What is one situation where you would use `append` and one where you would use `extend`?\n",
    "\n",
    "**Hint**: *Iterable* in Python means an object with multiple values that can be iterated through (including lists, tuples, and even strings)."
   ]
  },
  {
   "cell_type": "code",
   "execution_count": 21,
   "metadata": {},
   "outputs": [
    {
     "name": "stdout",
     "output_type": "stream",
     "text": [
      "[1, 3, 8, 'elephant', 'banana', 2, 'apple', 8, 9]\n",
      "[1, 3, 8, 'elephant', 'banana', 2, ['apple', 8, 9]]\n",
      "[1, 3, 8, 'elephant', 'banana', 2, 'apple', 8, 9]\n"
     ]
    }
   ],
   "source": [
    "thing = [1, 3, 8, 'elephant', 'banana', 2]\n",
    "\n",
    "# 1\n",
    "thing.append('apple')\n",
    "thing.append(8)\n",
    "thing.append(9)\n",
    "print(thing)\n",
    "\n",
    "# 2\n",
    "thing = [1, 3, 8, 'elephant', 'banana', 2]\n",
    "\n",
    "thing2 = ['apple',8,9]\n",
    "thing.append(thing2)\n",
    "print(thing)\n",
    "\n",
    "#3 \n",
    "thing = [1, 3, 8, 'elephant', 'banana', 2]\n",
    "thing2 = ['apple',8,9]\n",
    "thing.extend(thing2)\n",
    "print(thing)\n"
   ]
  },
  {
   "cell_type": "markdown",
   "metadata": {},
   "source": [
    "## Challenge 3: Creating a Dictionary\n",
    "\n",
    "Create a dictionary `fruits` with the following lists. Print the list of keys in the dictionary."
   ]
  },
  {
   "cell_type": "code",
   "execution_count": 23,
   "metadata": {},
   "outputs": [
    {
     "data": {
      "text/plain": [
       "{'fruit': ['apple', 'orange', 'mango'],\n",
       " 'length': [3.2, 2.1, 3.1],\n",
       " 'color': ['red', 'orange', 'yellow']}"
      ]
     },
     "execution_count": 23,
     "metadata": {},
     "output_type": "execute_result"
    }
   ],
   "source": [
    "fruit = ['apple', 'orange', 'mango']\n",
    "length = [3.2, 2.1, 3.1]\n",
    "color = ['red', 'orange', 'yellow']\n",
    "\n",
    "\n",
    "fruits_dict= {'fruit':fruit,\n",
    "             'length':length,\n",
    "             'color':color}\n",
    "fruits_dict"
   ]
  },
  {
   "cell_type": "markdown",
   "metadata": {},
   "source": [
    "## Challenge 4: Initializing a DataFrame\n",
    "\n",
    "The following code gives a couple of errors. What are the errors? What are some ways we could fix this?"
   ]
  },
  {
   "cell_type": "code",
   "execution_count": 31,
   "metadata": {},
   "outputs": [
    {
     "ename": "TypeError",
     "evalue": "unhashable type: 'list'",
     "output_type": "error",
     "traceback": [
      "\u001b[0;31m---------------------------------------------------------------------------\u001b[0m",
      "\u001b[0;31mTypeError\u001b[0m                                 Traceback (most recent call last)",
      "\u001b[0;32m<ipython-input-31-e94f8b75cffd>\u001b[0m in \u001b[0;36m<module>\u001b[0;34m\u001b[0m\n\u001b[1;32m     11\u001b[0m     \u001b[0mfruit\u001b[0m\u001b[0;34m:\u001b[0m \u001b[0mfruit\u001b[0m\u001b[0;34m,\u001b[0m\u001b[0;34m\u001b[0m\u001b[0;34m\u001b[0m\u001b[0m\n\u001b[1;32m     12\u001b[0m     \u001b[0mlength\u001b[0m\u001b[0;34m:\u001b[0m \u001b[0mlength\u001b[0m\u001b[0;34m,\u001b[0m\u001b[0;34m\u001b[0m\u001b[0;34m\u001b[0m\u001b[0m\n\u001b[0;32m---> 13\u001b[0;31m     color: color}\n\u001b[0m\u001b[1;32m     14\u001b[0m \u001b[0;34m\u001b[0m\u001b[0m\n\u001b[1;32m     15\u001b[0m \u001b[0mdf\u001b[0m \u001b[0;34m=\u001b[0m \u001b[0mpd\u001b[0m\u001b[0;34m.\u001b[0m\u001b[0mDataFrame\u001b[0m\u001b[0;34m(\u001b[0m\u001b[0mfruits\u001b[0m\u001b[0;34m)\u001b[0m\u001b[0;34m\u001b[0m\u001b[0;34m\u001b[0m\u001b[0m\n",
      "\u001b[0;31mTypeError\u001b[0m: unhashable type: 'list'"
     ]
    }
   ],
   "source": [
    "import pandas as pd\n",
    "\n",
    "#Error 1: the keys are lists, not strings\n",
    "#Error 2: The fruit list is shorter than the other two, so the data are not rectangular. \n",
    "# Add a filler to the fruit list to make sure it is the same length\n",
    "fruit = ['apple', 'orange']\n",
    "length = [3.2, 2.1, 3.1]\n",
    "color = ['red', 'orange', 'yellow']\n",
    "\n",
    "fruits = {\n",
    "    fruit: fruit,\n",
    "    length: length,\n",
    "    color: color}\n",
    "\n",
    "df = pd.DataFrame(fruits)"
   ]
  },
  {
   "cell_type": "code",
   "execution_count": 32,
   "metadata": {},
   "outputs": [],
   "source": [
    "fruit = ['apple', 'orange','unknown']\n",
    "length = [3.2, 2.1, 3.1]\n",
    "color = ['red', 'orange', 'yellow']\n",
    "\n",
    "fruits = {\n",
    "    'fruit': fruit,\n",
    "    'length': length,\n",
    "    'color': color}\n",
    "\n",
    "df = pd.DataFrame(fruits)"
   ]
  },
  {
   "cell_type": "markdown",
   "metadata": {},
   "source": []
  }
 ],
 "metadata": {
  "kernelspec": {
   "display_name": "Python 3",
   "language": "python",
   "name": "python3"
  },
  "language_info": {
   "codemirror_mode": {
    "name": "ipython",
    "version": 3
   },
   "file_extension": ".py",
   "mimetype": "text/x-python",
   "name": "python",
   "nbconvert_exporter": "python",
   "pygments_lexer": "ipython3",
   "version": "3.7.6"
  }
 },
 "nbformat": 4,
 "nbformat_minor": 4
}
