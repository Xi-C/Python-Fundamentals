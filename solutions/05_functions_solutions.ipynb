{
 "cells": [
  {
   "cell_type": "markdown",
   "metadata": {},
   "source": [
    "## Challenge 1: Errors in Nested Functions\n",
    "\n",
    "\n",
    "What doe sthe following line of code do?\n",
    "Running this code gives an error. What type of error is it? How can we fix it?"
   ]
  },
  {
   "cell_type": "code",
   "execution_count": 6,
   "metadata": {},
   "outputs": [
    {
     "ename": "SyntaxError",
     "evalue": "unexpected EOF while parsing (<ipython-input-6-ee558ddc1e32>, line 2)",
     "output_type": "error",
     "traceback": [
      "\u001b[0;36m  File \u001b[0;32m\"<ipython-input-6-ee558ddc1e32>\"\u001b[0;36m, line \u001b[0;32m2\u001b[0m\n\u001b[0;31m    print(max(len('hi'), len('hello'))\u001b[0m\n\u001b[0m                                      ^\u001b[0m\n\u001b[0;31mSyntaxError\u001b[0m\u001b[0;31m:\u001b[0m unexpected EOF while parsing\n"
     ]
    }
   ],
   "source": [
    "# Syntax error: we need an extra parenthesis\n",
    "print(max(len('hi'), len('hello'))"
   ]
  },
  {
   "cell_type": "code",
   "execution_count": 7,
   "metadata": {},
   "outputs": [
    {
     "name": "stdout",
     "output_type": "stream",
     "text": [
      "5\n"
     ]
    }
   ],
   "source": [
    "print(max(len('hi'), len('hello')))"
   ]
  },
  {
   "cell_type": "markdown",
   "metadata": {},
   "source": [
    "## Challenge 2: Modular Division\n",
    "\n",
    "`divmod()` is another built-in Python function that returns two values: (1) the value when you divide `a` by `b`, and (2) the remainder.  Use the command `?divmod` for more information.\n",
    "\n",
    "Let's say we want to divide 16 by 5 using this function. \n",
    "\n",
    "1. What do you predict the output to be?\n",
    "2. Run the following line of code. Do the results match your expectations? If not, why?\n",
    "3. If necessary, modify the code."
   ]
  },
  {
   "cell_type": "code",
   "execution_count": 9,
   "metadata": {},
   "outputs": [
    {
     "data": {
      "text/plain": [
       "(0, 5)"
      ]
     },
     "execution_count": 9,
     "metadata": {},
     "output_type": "execute_result"
    }
   ],
   "source": [
    "divmod(5, 16)"
   ]
  },
  {
   "cell_type": "code",
   "execution_count": 10,
   "metadata": {},
   "outputs": [
    {
     "data": {
      "text/plain": [
       "(3, 1)"
      ]
     },
     "execution_count": 10,
     "metadata": {},
     "output_type": "execute_result"
    }
   ],
   "source": [
    "# We need to switch the order to get 16 divided by 5\n",
    "divmod(16, 5)"
   ]
  },
  {
   "cell_type": "markdown",
   "metadata": {},
   "source": [
    "## Challenge 3: Nested Functions\n",
    "\n",
    "1. Predict what each of the `print` statements in the program below will print.\n",
    "2. Does `max(str(len(rich)), poor)` run or produce an error message?\n",
    "   If it runs, does its result make any sense?"
   ]
  },
  {
   "cell_type": "code",
   "execution_count": 16,
   "metadata": {},
   "outputs": [
    {
     "name": "stdout",
     "output_type": "stream",
     "text": [
      "tin\n",
      "4\n"
     ]
    }
   ],
   "source": [
    "rich = \"gold\"\n",
    "poor = \"tin\"\n",
    "# Max returns the latest alphabetical entry when applied to strings\n",
    "print(max(rich, poor))\n",
    "# Max is telling us the length of the longest string\n",
    "print(max(len(rich), len(poor)))"
   ]
  },
  {
   "cell_type": "code",
   "execution_count": 19,
   "metadata": {},
   "outputs": [
    {
     "data": {
      "text/plain": [
       "'tin'"
      ]
     },
     "execution_count": 19,
     "metadata": {},
     "output_type": "execute_result"
    }
   ],
   "source": [
    "#comparing alphanumeric strings have the order '0-9A-Za-z', even for number strings\n",
    "max(str(len(rich)), poor)"
   ]
  },
  {
   "cell_type": "code",
   "execution_count": null,
   "metadata": {},
   "outputs": [],
   "source": []
  }
 ],
 "metadata": {
  "kernelspec": {
   "display_name": "Python 3",
   "language": "python",
   "name": "python3"
  },
  "language_info": {
   "codemirror_mode": {
    "name": "ipython",
    "version": 3
   },
   "file_extension": ".py",
   "mimetype": "text/x-python",
   "name": "python",
   "nbconvert_exporter": "python",
   "pygments_lexer": "ipython3",
   "version": "3.7.6"
  }
 },
 "nbformat": 4,
 "nbformat_minor": 5
}
