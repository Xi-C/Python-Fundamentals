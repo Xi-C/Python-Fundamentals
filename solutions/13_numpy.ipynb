{
 "cells": [
  {
   "cell_type": "code",
   "execution_count": 2,
   "metadata": {},
   "outputs": [],
   "source": [
    "import pandas as pd\n",
    "import numpy as np"
   ]
  },
  {
   "cell_type": "markdown",
   "metadata": {},
   "source": [
    "## Challenge 1: Correlation Coefficients\n",
    "\n",
    "[`np.corrcoef()`](https://numpy.org/doc/stable/reference/generated/numpy.corrcoef.html) can be used to calculate the correlation between two sets of related data. Calculate the correlation value between the culmen length and culmen depth in the penguins dataset. What is the $R^2$ value of the result?"
   ]
  },
  {
   "cell_type": "code",
   "execution_count": 9,
   "metadata": {},
   "outputs": [
    {
     "name": "stdout",
     "output_type": "stream",
     "text": [
      "species               0\n",
      "island                0\n",
      "culmen_length_mm      2\n",
      "culmen_depth_mm       2\n",
      "flipper_length_mm     2\n",
      "body_mass_g           2\n",
      "sex                  10\n",
      "dtype: int64\n"
     ]
    },
    {
     "data": {
      "text/plain": [
       "array([[ 1.        , -0.22863998],\n",
       "       [-0.22863998,  1.        ]])"
      ]
     },
     "execution_count": 9,
     "metadata": {},
     "output_type": "execute_result"
    }
   ],
   "source": [
    "penguins = pd.read_csv('penguins.csv')\n",
    "print(penguins.isnull().sum())\n",
    "penguins = penguins.dropna()\n",
    "np.corrcoef(penguins['culmen_length_mm'],penguins['culmen_depth_mm'])"
   ]
  },
  {
   "cell_type": "markdown",
   "metadata": {},
   "source": [
    "## Challenge 2: Creating Ranges\n",
    "\n",
    "We want to sample between 0 and 1 (including each endpoint) at 0.1 intervals. Which of the following will achieve that goal? "
   ]
  },
  {
   "cell_type": "code",
   "execution_count": 12,
   "metadata": {},
   "outputs": [
    {
     "name": "stdout",
     "output_type": "stream",
     "text": [
      "[0.  0.1 0.2 0.3 0.4 0.5 0.6 0.7 0.8 0.9]\n",
      "[0.  0.1 0.2 0.3 0.4 0.5 0.6 0.7 0.8 0.9 1. ]\n",
      "[0.  0.1 0.2 0.3 0.4 0.5 0.6 0.7 0.8 0.9 1. ]\n",
      "[0.         0.12222222 0.24444444 0.36666667 0.48888889 0.61111111\n",
      " 0.73333333 0.85555556 0.97777778 1.1       ]\n"
     ]
    }
   ],
   "source": [
    "print(np.arange(0, 1, .1)) #stops short\n",
    "print(np.arange(0, 1.1, .1)) #works\n",
    "print(np.linspace(0, 1, 11)) #works\n",
    "print(np.linspace(0, 1.1, 10)) #goes too high, wrong interval"
   ]
  }
 ],
 "metadata": {
  "kernelspec": {
   "display_name": "Python 3",
   "language": "python",
   "name": "python3"
  },
  "language_info": {
   "codemirror_mode": {
    "name": "ipython",
    "version": 3
   },
   "file_extension": ".py",
   "mimetype": "text/x-python",
   "name": "python",
   "nbconvert_exporter": "python",
   "pygments_lexer": "ipython3",
   "version": "3.7.6"
  }
 },
 "nbformat": 4,
 "nbformat_minor": 4
}
