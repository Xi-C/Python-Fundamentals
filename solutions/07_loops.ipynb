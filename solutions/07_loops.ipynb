{
 "cells": [
  {
   "cell_type": "markdown",
   "metadata": {},
   "source": [
    "## Challenge 1: Fixing Loop Syntax\n",
    "\n",
    "The following block of code contains several errors that are preventing it from running properly. What are the errors? How would you fix them?"
   ]
  },
  {
   "cell_type": "code",
   "execution_count": 1,
   "metadata": {},
   "outputs": [
    {
     "ename": "SyntaxError",
     "evalue": "invalid syntax (<ipython-input-1-8da6d5b700eb>, line 1)",
     "output_type": "error",
     "traceback": [
      "\u001b[0;36m  File \u001b[0;32m\"<ipython-input-1-8da6d5b700eb>\"\u001b[0;36m, line \u001b[0;32m1\u001b[0m\n\u001b[0;31m    for kitten in [2, 3, 5] #missing colon\u001b[0m\n\u001b[0m                                          ^\u001b[0m\n\u001b[0;31mSyntaxError\u001b[0m\u001b[0;31m:\u001b[0m invalid syntax\n"
     ]
    }
   ],
   "source": [
    "for kitten in [2, 3, 5] #missing colon\n",
    "print(k) #not indented\n",
    "\n",
    "#kitten and k need to match\n"
   ]
  },
  {
   "cell_type": "code",
   "execution_count": 2,
   "metadata": {},
   "outputs": [
    {
     "name": "stdout",
     "output_type": "stream",
     "text": [
      "2\n",
      "3\n",
      "5\n"
     ]
    }
   ],
   "source": [
    "#solution\n",
    "for kitten in [2, 3, 5]:\n",
    "    print(kitten)\n"
   ]
  },
  {
   "cell_type": "markdown",
   "metadata": {},
   "source": [
    "## Challenge 2: Looping Through a Series\n",
    "\n",
    "Remember looking at `pandas` Series? These are also iterables, so we can loop through them!\n",
    "\n",
    "For the data frame below, let's convert each elevation from feet to meters. Use the conversion: 1 ft = .304 m.\n",
    "\n",
    "Proceed as follows:\n",
    "\n",
    "1. Extract the column `elevation` as a series.\n",
    "2. Loop through the series.\n",
    "3. Convert each value to meters.\n",
    "4. Print the result. \n",
    "\n",
    "**Bonus**: Use `range` to iterate through the series and achieve the same result. Can you think of any other ways to loop through the DataFrame?"
   ]
  },
  {
   "cell_type": "code",
   "execution_count": 4,
   "metadata": {},
   "outputs": [
    {
     "ename": "NameError",
     "evalue": "name 'mountain_df' is not defined",
     "output_type": "error",
     "traceback": [
      "\u001b[0;31m---------------------------------------------------------------------------\u001b[0m",
      "\u001b[0;31mNameError\u001b[0m                                 Traceback (most recent call last)",
      "\u001b[0;32m<ipython-input-4-00bf9599a516>\u001b[0m in \u001b[0;36m<module>\u001b[0;34m\u001b[0m\n\u001b[1;32m     17\u001b[0m )\n\u001b[1;32m     18\u001b[0m \u001b[0;34m\u001b[0m\u001b[0m\n\u001b[0;32m---> 19\u001b[0;31m \u001b[0mmountain_df\u001b[0m\u001b[0;34m\u001b[0m\u001b[0;34m\u001b[0m\u001b[0m\n\u001b[0m",
      "\u001b[0;31mNameError\u001b[0m: name 'mountain_df' is not defined"
     ]
    }
   ],
   "source": [
    "import pandas as pd\n",
    "\n",
    "mountains_df = pd.DataFrame(\n",
    "    {'mountain': ['Mt. Whitney',\n",
    "                  'Mt. Williamson',\n",
    "                  'White Mountain Peak',\n",
    "                  'North Palisade',\n",
    "                  'Mt. Shasta',\n",
    "                  'Mt. Humphreys'],\n",
    "     'range': ['Sierra Nevada',\n",
    "               'Sierra Nevada',\n",
    "               'White Mountains',\n",
    "               'Sierra Nevada',\n",
    "               'Cascade Range',\n",
    "               'Sierra Nevada'],\n",
    "     'elevation': [14505, 14379, 14252, 14248, 14179, 13992]}\n",
    ")\n",
    "\n",
    "mountains_df"
   ]
  },
  {
   "cell_type": "code",
   "execution_count": 6,
   "metadata": {},
   "outputs": [
    {
     "name": "stdout",
     "output_type": "stream",
     "text": [
      "4409.5199999999995\n",
      "4371.215999999999\n",
      "4332.608\n",
      "4331.392\n",
      "4310.416\n",
      "4253.568\n"
     ]
    }
   ],
   "source": [
    "elevation = mountains_df['elevation']\n",
    "\n",
    "for e in elevation:\n",
    "    print(e * .304)"
   ]
  },
  {
   "cell_type": "markdown",
   "metadata": {},
   "source": [
    "## Challenge 3: Aggregation Practice\n",
    "\n",
    "Below are a few examples showing the different types of quantities you might aggregate using a for loop. These loops are partially filled out - finish them and test that they work!\n",
    "\n",
    "1. Find the total length of the strings in the given list. Store this quantity in a variable called `total`."
   ]
  },
  {
   "cell_type": "code",
   "execution_count": 8,
   "metadata": {},
   "outputs": [
    {
     "name": "stdout",
     "output_type": "stream",
     "text": [
      "12\n"
     ]
    }
   ],
   "source": [
    "total = 0\n",
    "words = [\"red\", \"green\", \"blue\"]\n",
    "\n",
    "for word in words:\n",
    "    total = total + len(word)\n",
    "\n",
    "print(total)"
   ]
  },
  {
   "cell_type": "markdown",
   "metadata": {},
   "source": [
    "2. Find the length of each word in the list, and store these lengths in another list called `lengths`."
   ]
  },
  {
   "cell_type": "code",
   "execution_count": 10,
   "metadata": {},
   "outputs": [
    {
     "name": "stdout",
     "output_type": "stream",
     "text": [
      "[3, 5, 4]\n"
     ]
    }
   ],
   "source": [
    "lengths = []\n",
    "words = [\"red\", \"green\", \"blue\"]\n",
    "\n",
    "for word in words:\n",
    "    lengths.append(len(word))\n",
    "\n",
    "print(lengths)"
   ]
  },
  {
   "cell_type": "markdown",
   "metadata": {},
   "source": [
    "3. Concatenate all words into a single string called `result`."
   ]
  },
  {
   "cell_type": "code",
   "execution_count": 11,
   "metadata": {},
   "outputs": [
    {
     "name": "stdout",
     "output_type": "stream",
     "text": [
      "redgreenblue\n"
     ]
    }
   ],
   "source": [
    "words = [\"red\", \"green\", \"blue\"]\n",
    "result = ''\n",
    "\n",
    "for word in words:\n",
    "    result = result + word\n",
    "\n",
    "print(result)"
   ]
  },
  {
   "cell_type": "markdown",
   "metadata": {},
   "source": [
    "4. Create an acronym, as a single string, representing the list of words. Each part of the acronym should consist of the first letter of each word, capitalized. For example, your loop should output `\"RGB\"` for the input `[\"red\", \"green\", \"blue\"]`. For this one, write the entire loop yourself!"
   ]
  },
  {
   "cell_type": "code",
   "execution_count": 14,
   "metadata": {},
   "outputs": [
    {
     "name": "stdout",
     "output_type": "stream",
     "text": [
      "RGB\n"
     ]
    }
   ],
   "source": [
    "words = [\"red\", \"green\", \"blue\"]\n",
    "result = ''\n",
    "for word in words: \n",
    "    result = result + word[0].upper()\n",
    "print(result)"
   ]
  },
  {
   "cell_type": "markdown",
   "metadata": {},
   "source": [
    "## Challenge 4: Nested loops with a `DataFrame`\n",
    "\n",
    "In the `mountains_df` data frame, let's use nested loops to look at the pairwise difference in elevation between mountains. Follow the steps below:\n",
    "\n",
    "1. Extract the mountain and elevation columns using `df[column]` and save them to new variables `elevations` and `mountains`.\n",
    "2. Use range to loop through the indices of each list.\n",
    "3. Use a second inner loop to loop through the remaining values in the list\n",
    "4. For each pair of mountains, subtract the inner elevation from the outer elevation.\n",
    "5. Print the difference.\n",
    "\n",
    "**Bonus**: Aggregate the total difference in elevation in a single integer. "
   ]
  },
  {
   "cell_type": "code",
   "execution_count": 15,
   "metadata": {},
   "outputs": [],
   "source": [
    "import pandas as pd\n",
    "\n",
    "mountains_df = pd.DataFrame(\n",
    "    {'mountain': ['Mt. Whitney',\n",
    "                  'Mt. Williamson',\n",
    "                  'White Mountain Peak',\n",
    "                  'North Palisade',\n",
    "                  'Mt. Shasta',\n",
    "                  'Mt. Humphreys'],\n",
    "     'range': ['Sierra Nevada',\n",
    "               'Sierra Nevada',\n",
    "               'White Mountains',\n",
    "               'Sierra Nevada',\n",
    "               'Cascade Range',\n",
    "               'Sierra Nevada'],\n",
    "     'elevation': [14505, 14379, 14252, 14248, 14179, 13992]}\n",
    ")"
   ]
  },
  {
   "cell_type": "code",
   "execution_count": 16,
   "metadata": {},
   "outputs": [
    {
     "name": "stdout",
     "output_type": "stream",
     "text": [
      "Difference between Mt. Whitney and Mt. Williamson is 126 feet\n",
      "Difference between Mt. Whitney and White Mountain Peak is 253 feet\n",
      "Difference between Mt. Whitney and North Palisade is 257 feet\n",
      "Difference between Mt. Whitney and Mt. Shasta is 326 feet\n",
      "Difference between Mt. Whitney and Mt. Humphreys is 513 feet\n",
      "Difference between Mt. Williamson and White Mountain Peak is 127 feet\n",
      "Difference between Mt. Williamson and North Palisade is 131 feet\n",
      "Difference between Mt. Williamson and Mt. Shasta is 200 feet\n",
      "Difference between Mt. Williamson and Mt. Humphreys is 387 feet\n",
      "Difference between White Mountain Peak and North Palisade is 4 feet\n",
      "Difference between White Mountain Peak and Mt. Shasta is 73 feet\n",
      "Difference between White Mountain Peak and Mt. Humphreys is 260 feet\n",
      "Difference between North Palisade and Mt. Shasta is 69 feet\n",
      "Difference between North Palisade and Mt. Humphreys is 256 feet\n",
      "Difference between Mt. Shasta and Mt. Humphreys is 187 feet\n"
     ]
    }
   ],
   "source": [
    "elevations = mountains_df['elevation']\n",
    "mountains = mountains_df['mountain']\n",
    "\n",
    "for i in range(len(elevations)):\n",
    "    m1 = mountains[i]\n",
    "    e1 = elevations[i]\n",
    "    for j in range(i+1,len(elevations)):\n",
    "        m2 = mountains[j]\n",
    "        e2 = elevations[j]\n",
    "        print('Difference between',m1,'and',m2,'is',e1-e2,'feet')"
   ]
  },
  {
   "cell_type": "code",
   "execution_count": null,
   "metadata": {},
   "outputs": [],
   "source": []
  }
 ],
 "metadata": {
  "kernelspec": {
   "display_name": "Python 3",
   "language": "python",
   "name": "python3"
  },
  "language_info": {
   "codemirror_mode": {
    "name": "ipython",
    "version": 3
   },
   "file_extension": ".py",
   "mimetype": "text/x-python",
   "name": "python",
   "nbconvert_exporter": "python",
   "pygments_lexer": "ipython3",
   "version": "3.7.6"
  }
 },
 "nbformat": 4,
 "nbformat_minor": 4
}
