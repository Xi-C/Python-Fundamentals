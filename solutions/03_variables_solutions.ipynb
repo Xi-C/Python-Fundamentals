{
 "cells": [
  {
   "cell_type": "markdown",
   "metadata": {},
   "source": [
    "## Challenge 1: Debugging Variable Names\n",
    "\n",
    "The following pieces of code include variable names that cause an error. What's wrong and how would we fix it? Are there any other guidelines that aren't being met with the variable names?"
   ]
  },
  {
   "cell_type": "code",
   "execution_count": 1,
   "metadata": {},
   "outputs": [
    {
     "ename": "SyntaxError",
     "evalue": "invalid syntax (<ipython-input-1-1f0964c26bbe>, line 2)",
     "output_type": "error",
     "traceback": [
      "\u001b[0;36m  File \u001b[0;32m\"<ipython-input-1-1f0964c26bbe>\"\u001b[0;36m, line \u001b[0;32m2\u001b[0m\n\u001b[0;31m    1a = 'Washington'\u001b[0m\n\u001b[0m     ^\u001b[0m\n\u001b[0;31mSyntaxError\u001b[0m\u001b[0;31m:\u001b[0m invalid syntax\n"
     ]
    }
   ],
   "source": [
    "# First variable starts with a number, names are uninformative\n",
    "1a = 'Washington'\n",
    "b2 = 'Olympia'\n",
    "print('The capital of', a1, 'is', b2)"
   ]
  },
  {
   "cell_type": "code",
   "execution_count": 5,
   "metadata": {},
   "outputs": [
    {
     "name": "stdout",
     "output_type": "stream",
     "text": [
      "The capital of Washington is Olympia\n"
     ]
    }
   ],
   "source": [
    "# Solution\n",
    "state = 'Washington'\n",
    "city = 'Olympia'\n",
    "print('The capital of', state, 'is', city)"
   ]
  },
  {
   "cell_type": "code",
   "execution_count": 6,
   "metadata": {},
   "outputs": [
    {
     "name": "stdout",
     "output_type": "stream",
     "text": [
      "924\n"
     ]
    }
   ],
   "source": [
    "# Python is case sensitive, inconsistent formatting\n",
    "A_variable = 22\n",
    "anotherVariable = 42\n",
    "print(a_variable * anotherVariable)"
   ]
  },
  {
   "cell_type": "code",
   "execution_count": 7,
   "metadata": {},
   "outputs": [
    {
     "name": "stdout",
     "output_type": "stream",
     "text": [
      "924\n"
     ]
    }
   ],
   "source": [
    "# Solution\n",
    "a_variable = 22\n",
    "another_variable = 42\n",
    "print(a_variable * another_variable)"
   ]
  },
  {
   "cell_type": "markdown",
   "metadata": {},
   "source": [
    "## Challenge 2: Words to Code\n",
    "\n",
    "Translate the following clause into code and save the result to a variable. \n",
    "\n",
    "Divide 15 by the sum of a and three times b. Multiply the result by 2 and raise it to the 3rd power. What is the result? \n",
    "\n",
    "**Hint**: Order of operations applies in Python (i.e., PEMDAS)."
   ]
  },
  {
   "cell_type": "code",
   "execution_count": 8,
   "metadata": {},
   "outputs": [],
   "source": [
    "a = 2\n",
    "b = 3"
   ]
  },
  {
   "cell_type": "code",
   "execution_count": 10,
   "metadata": {},
   "outputs": [
    {
     "data": {
      "text/plain": [
       "20.285499624342595"
      ]
     },
     "execution_count": 10,
     "metadata": {},
     "output_type": "execute_result"
    }
   ],
   "source": [
    "((15 / (a + 3 * b)) * 2)**3"
   ]
  },
  {
   "cell_type": "markdown",
   "metadata": {},
   "source": [
    "## Challenge 3: Swapping Values\n",
    "\n",
    "Let's say we have two variables and we want to swap the values for each of them. \n",
    "\n",
    "Does the following method accomplish the goal? What is the value of first and last at the end of the cell? `"
   ]
  },
  {
   "cell_type": "code",
   "execution_count": 12,
   "metadata": {},
   "outputs": [
    {
     "name": "stdout",
     "output_type": "stream",
     "text": [
      "z\n",
      "z\n"
     ]
    }
   ],
   "source": [
    "first = 'a'\n",
    "last = 'z'\n",
    "\n",
    "first = last\n",
    "last = first\n",
    "\n",
    "print(first)\n",
    "print(last)\n",
    "\n",
    "#The value of first and last at the end are both z.\n",
    "#This is because when last is reassigned to first, the original value of first is not overwritten\n",
    "#We need a temporary variable to mediate the swap."
   ]
  },
  {
   "cell_type": "code",
   "execution_count": 13,
   "metadata": {},
   "outputs": [
    {
     "name": "stdout",
     "output_type": "stream",
     "text": [
      "z\n",
      "a\n"
     ]
    }
   ],
   "source": [
    "#solution\n",
    "first = 'a'\n",
    "last = 'z'\n",
    "\n",
    "# YOUR CODE HERE\n",
    "temp = first\n",
    "first = last\n",
    "last = temp\n",
    "\n",
    "print(first)\n",
    "print(last)"
   ]
  },
  {
   "cell_type": "code",
   "execution_count": null,
   "metadata": {},
   "outputs": [],
   "source": []
  }
 ],
 "metadata": {
  "kernelspec": {
   "display_name": "Python 3",
   "language": "python",
   "name": "python3"
  },
  "language_info": {
   "codemirror_mode": {
    "name": "ipython",
    "version": 3
   },
   "file_extension": ".py",
   "mimetype": "text/x-python",
   "name": "python",
   "nbconvert_exporter": "python",
   "pygments_lexer": "ipython3",
   "version": "3.7.6"
  }
 },
 "nbformat": 4,
 "nbformat_minor": 5
}
